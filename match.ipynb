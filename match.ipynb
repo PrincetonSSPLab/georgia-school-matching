{
 "cells": [
  {
   "attachments": {},
   "cell_type": "markdown",
   "metadata": {},
   "source": [
    "## Fuzzy Matching School Names\n",
    "\n",
    "Matches school name in educator data with their ids."
   ]
  },
  {
   "cell_type": "code",
   "execution_count": 162,
   "metadata": {},
   "outputs": [],
   "source": [
    "import os\n",
    "import pandas as pd\n",
    "from fuzzywuzzy import fuzz, process\n",
    "from collections import defaultdict"
   ]
  },
  {
   "cell_type": "code",
   "execution_count": 163,
   "metadata": {},
   "outputs": [],
   "source": [
    "input_data_dir = \"data-to-match\"\n",
    "\n",
    "educators_inexperienced_path = os.path.join(input_data_dir, \"Educators_Inexperienced_2018_JAN_24th_2019.csv\")\n",
    "educators_out_of_field_path = os.path.join(input_data_dir, \"Educators_OUT_OF_FIELD_2018_JAN_24th_2019.csv\")\n",
    "school_id_data_path = os.path.join(input_data_dir, \"ga_public_school_contact_list_Ethan.xlsx\")\n",
    "\n",
    "educators_inexperienced = pd.read_csv(educators_inexperienced_path)\n",
    "educators_out_of_field = pd.read_csv(educators_out_of_field_path)\n",
    "school_id_data = pd.read_excel(school_id_data_path, sheet_name=\"Sheet_1\")\n"
   ]
  },
  {
   "cell_type": "code",
   "execution_count": 164,
   "metadata": {},
   "outputs": [],
   "source": [
    "# Cleaning Public School Data.\n",
    "school_id_data[\"SCHOOL_NAME\"] = school_id_data[\"SCHOOL_NAME\"].str.upper()\n",
    "school_id_data[\"SCHOOL_NAME\"] = school_id_data[\"SCHOOL_NAME\"].str.strip()\n",
    "school_id_data[\"SYSTEM_NAME\"] = school_id_data[\"SYSTEM_NAME\"].str.upper()\n",
    "school_id_data[\"SYSTEM_NAME\"] = school_id_data[\"SYSTEM_NAME\"].str.strip()\n",
    "# Must take care of duplicates separately. Some schools have the same name but are differet schools with different IDs.\n",
    "school_id_data_no_duplicates = school_id_data.drop_duplicates(subset=\"SCHOOL_NAME\", keep=False)"
   ]
  },
  {
   "cell_type": "code",
   "execution_count": 165,
   "metadata": {},
   "outputs": [],
   "source": [
    "# Cleaning Educators Inexperienced.\n",
    "educators_inexperienced[\"INSTN_NAME\"] = educators_inexperienced[\"INSTN_NAME\"].str.upper()\n",
    "educators_inexperienced[\"INSTN_NAME\"] = educators_inexperienced[\"INSTN_NAME\"].str.strip()\n",
    "educators_inexperienced[\"SCHOOL_DSTRCT_NM\"] = educators_inexperienced[\"SCHOOL_DSTRCT_NM\"].str.upper()\n",
    "educators_inexperienced[\"SCHOOL_DSTRCT_NM\"] = educators_inexperienced[\"SCHOOL_DSTRCT_NM\"].str.strip()\n",
    "educators_inexperienced = educators_inexperienced[~educators_inexperienced[\"INSTN_NAME\"].str.endswith(\"ALL SCHOOLS\")]"
   ]
  },
  {
   "cell_type": "code",
   "execution_count": 166,
   "metadata": {},
   "outputs": [],
   "source": [
    "# Cleaning Educators Out of Field.\n",
    "educators_out_of_field[\"INSTN_NAME\"] = educators_out_of_field[\"INSTN_NAME\"].str.upper()\n",
    "educators_out_of_field[\"INSTN_NAME\"] = educators_out_of_field[\"INSTN_NAME\"].str.strip()\n",
    "educators_out_of_field[\"SCHOOL_DSTRCT_NM\"] = educators_out_of_field[\"SCHOOL_DSTRCT_NM\"].str.upper()\n",
    "educators_out_of_field[\"SCHOOL_DSTRCT_NM\"] = educators_out_of_field[\"SCHOOL_DSTRCT_NM\"].str.strip()\n",
    "educators_out_of_field = educators_out_of_field[~educators_out_of_field[\"INSTN_NAME\"].str.endswith(\"ALL SCHOOLS\")]"
   ]
  },
  {
   "attachments": {},
   "cell_type": "markdown",
   "metadata": {},
   "source": [
    "### Matching for Inexperienced Educators"
   ]
  },
  {
   "cell_type": "code",
   "execution_count": 167,
   "metadata": {},
   "outputs": [
    {
     "name": "stdout",
     "output_type": "stream",
     "text": [
      "Shape of inexperienced_with_perfect_match: (5587, 8)\n",
      "Shape of inexperienced_no_perfect_match: (97, 8)\n"
     ]
    }
   ],
   "source": [
    "inexperienced_with_perfect_match = educators_inexperienced[educators_inexperienced[\"INSTN_NAME\"].isin(school_id_data[\"SCHOOL_NAME\"])]\n",
    "inexperienced_no_perfect_match = educators_inexperienced[~educators_inexperienced[\"INSTN_NAME\"].isin(school_id_data[\"SCHOOL_NAME\"])]\n",
    "\n",
    "print(\"Shape of inexperienced_with_perfect_match: {}\".format(inexperienced_with_perfect_match.shape))\n",
    "print(\"Shape of inexperienced_no_perfect_match: {}\".format(inexperienced_no_perfect_match.shape))"
   ]
  },
  {
   "cell_type": "code",
   "execution_count": 168,
   "metadata": {},
   "outputs": [
    {
     "name": "stdout",
     "output_type": "stream",
     "text": [
      "Number of schools in inexperienced data: 5684\n",
      "Number of schools in inexperienced data with perfect match: 5587\n",
      "Number of schools in inexperienced data with no perfect match: 97\n",
      "Sizes of perfect and non-perfect subsets is correct: True\n",
      "No overlap between perfect and non-perfect matching subsets: True\n"
     ]
    }
   ],
   "source": [
    "print(\"Number of schools in inexperienced data: {}\".format(len(educators_inexperienced)))\n",
    "print(\"Number of schools in inexperienced data with perfect match: {}\".format(len(inexperienced_with_perfect_match)))\n",
    "print(\"Number of schools in inexperienced data with no perfect match: {}\".format(len(inexperienced_no_perfect_match)))\n",
    "\n",
    "correct_size = inexperienced_with_perfect_match.shape[0] + inexperienced_no_perfect_match.shape[0] == educators_inexperienced.shape[0]\n",
    "print(\"Sizes of perfect and non-perfect subsets is correct: {}\".format(correct_size))\n",
    "\n",
    "no_overlap = len(set(inexperienced_with_perfect_match[\"INSTN_NAME\"]).intersection(set(inexperienced_no_perfect_match[\"INSTN_NAME\"]))) == 0\n",
    "print(\"No overlap between perfect and non-perfect matching subsets: {}\".format(no_overlap))"
   ]
  },
  {
   "cell_type": "code",
   "execution_count": 170,
   "metadata": {},
   "outputs": [
    {
     "name": "stdout",
     "output_type": "stream",
     "text": [
      "Shape of merged_inexperienced: (5587, 30)\n"
     ]
    }
   ],
   "source": [
    "merged_inexperienced = inexperienced_with_perfect_match.merge(\n",
    "    school_id_data,\n",
    "    left_on=[\"INSTN_NAME\", \"SCHOOL_DSTRCT_NM\"],\n",
    "    right_on=[\"SCHOOL_NAME\", \"SYSTEM_NAME\"],\n",
    "    how=\"left\",\n",
    ")\n",
    "\n",
    "merged_inexperienced[\"MATCH_TYPE\"] = \"PERFECT\"\n",
    "\n",
    "print(\"Shape of merged_inexperienced: {}\".format(merged_inexperienced.shape))"
   ]
  },
  {
   "cell_type": "code",
   "execution_count": 173,
   "metadata": {},
   "outputs": [
    {
     "name": "stdout",
     "output_type": "stream",
     "text": [
      "Number of unmatched schools by county: 272\n"
     ]
    }
   ],
   "source": [
    "unmatched_by_county = merged_inexperienced[merged_inexperienced[\"Full School_ID\"].isnull()]\n",
    "print(\"Number of unmatched schools by county: {}\".format(len(unmatched_by_county)))\n",
    "\n"
   ]
  },
  {
   "cell_type": "code",
   "execution_count": 121,
   "metadata": {},
   "outputs": [],
   "source": [
    "def fuzzy_match_school_name(name):\n",
    "    \"\"\"Matches school name to school id using fuzzy matching.\n",
    "    \n",
    "    Parameters\n",
    "    ----------\n",
    "    name : str\n",
    "        School name to match.\n",
    "        \n",
    "    Returns\n",
    "    -------\n",
    "    name : str\n",
    "        Tuple of matched name, match confidence score, and school id.\n",
    "    \"\"\"\n",
    "    match = process.extractOne(name, school_id_data_no_duplicates[\"SCHOOL_NAME\"])\n",
    "    name = match[0]\n",
    "    score = match[1]\n",
    "    row = match[2]\n",
    "    school_id = school_id_data_no_duplicates.loc[row][\"Full School_ID\"]\n",
    "    return (name, score, school_id)"
   ]
  },
  {
   "cell_type": "code",
   "execution_count": 122,
   "metadata": {},
   "outputs": [
    {
     "name": "stderr",
     "output_type": "stream",
     "text": [
      "C:\\Users\\ethan_haque\\AppData\\Local\\Temp\\ipykernel_47136\\604840341.py:1: SettingWithCopyWarning: \n",
      "A value is trying to be set on a copy of a slice from a DataFrame.\n",
      "Try using .loc[row_indexer,col_indexer] = value instead\n",
      "\n",
      "See the caveats in the documentation: https://pandas.pydata.org/pandas-docs/stable/user_guide/indexing.html#returning-a-view-versus-a-copy\n",
      "  inexperienced_no_perfect_match[\"SCHOOL_ID\"] = inexperienced_no_perfect_match[\"INSTN_NAME\"].apply(fuzzy_match_school_name)\n",
      "C:\\Users\\ethan_haque\\AppData\\Local\\Temp\\ipykernel_47136\\604840341.py:2: SettingWithCopyWarning: \n",
      "A value is trying to be set on a copy of a slice from a DataFrame.\n",
      "Try using .loc[row_indexer,col_indexer] = value instead\n",
      "\n",
      "See the caveats in the documentation: https://pandas.pydata.org/pandas-docs/stable/user_guide/indexing.html#returning-a-view-versus-a-copy\n",
      "  inexperienced_no_perfect_match[\"MATCH_TYPE\"] = \"FUZZY\"\n"
     ]
    }
   ],
   "source": [
    "inexperienced_no_perfect_match[\"SCHOOL_ID\"] = inexperienced_no_perfect_match[\"INSTN_NAME\"].apply(fuzzy_match_school_name)\n",
    "inexperienced_no_perfect_match[\"MATCH_TYPE\"] = \"FUZZY\""
   ]
  },
  {
   "attachments": {},
   "cell_type": "markdown",
   "metadata": {},
   "source": [
    "### Matching for Out of Field Educators"
   ]
  },
  {
   "attachments": {},
   "cell_type": "markdown",
   "metadata": {},
   "source": [
    "### Saving Output"
   ]
  },
  {
   "cell_type": "code",
   "execution_count": 123,
   "metadata": {},
   "outputs": [],
   "source": [
    "output_dir = \"matched-data\""
   ]
  },
  {
   "cell_type": "code",
   "execution_count": 124,
   "metadata": {},
   "outputs": [],
   "source": [
    "# rememeber to remove non-alphanumeric characters from school names.\n",
    "\n",
    "inexperienced_matched = pd.concat([inexperienced_with_perfect_match, inexperienced_no_perfect_match])\n",
    "inexperienced_matched.to_csv(os.path.join(output_dir, \"inexperienced-matched.csv\"), index=False)\n",
    "# Cleaned by hand.\n",
    "\n",
    "# merged_inexperienced[\n",
    "#     [\n",
    "#         \"LONG_SCHOOL_YEAR\",\n",
    "#         \"SCHOOL_DSTRCT_NM\",\n",
    "#         \"SYSTEM_NAME\",\n",
    "#         \"INSTN_NAME\",\n",
    "#         \"SCHOOL_NAME\",\n",
    "#         \"LABEL_LVL_3_DESC\",\n",
    "#         \"LABEL_LVL_2_DESC\",\n",
    "#         \"FTE\",\n",
    "#         \"INEXPERIENCED_FTE\",\n",
    "#         \"INEXPERIENCED_FTE_PCT\",\n",
    "#         \"Full School_ID\",\n",
    "#     ]\n",
    "# ].to_csv(\"inexperienced_with_perfect_match.csv\", index=False)\n"
   ]
  }
 ],
 "metadata": {
  "kernelspec": {
   "display_name": "atlanta-school-matching",
   "language": "python",
   "name": "python3"
  },
  "language_info": {
   "codemirror_mode": {
    "name": "ipython",
    "version": 3
   },
   "file_extension": ".py",
   "mimetype": "text/x-python",
   "name": "python",
   "nbconvert_exporter": "python",
   "pygments_lexer": "ipython3",
   "version": "3.8.15"
  },
  "orig_nbformat": 4,
  "vscode": {
   "interpreter": {
    "hash": "3f5b8ae71cd6f1427f27a2aae7e00ad9764d4a11c4c5b25e9feec828b6b7da8a"
   }
  }
 },
 "nbformat": 4,
 "nbformat_minor": 2
}
