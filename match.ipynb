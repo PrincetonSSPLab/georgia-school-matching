{
 "cells": [
  {
   "attachments": {},
   "cell_type": "markdown",
   "metadata": {},
   "source": [
    "## Fuzzy Matching School Names\n",
    "\n",
    "Matches school name in educator data with their ids."
   ]
  },
  {
   "cell_type": "code",
   "execution_count": 14,
   "metadata": {},
   "outputs": [],
   "source": [
    "import os\n",
    "import pandas as pd\n",
    "from fuzzywuzzy import fuzz, process"
   ]
  },
  {
   "cell_type": "code",
   "execution_count": 15,
   "metadata": {},
   "outputs": [],
   "source": [
    "input_data_dir = \"data-to-match\"\n",
    "\n",
    "educators_inexperienced_path = os.path.join(input_data_dir, \"Educators_Inexperienced_2018_JAN_24th_2019.csv\")\n",
    "educators_out_of_field_path = os.path.join(input_data_dir, \"Educators_OUT_OF_FIELD_2018_JAN_24th_2019.csv\")\n",
    "school_id_data_path = os.path.join(input_data_dir, \"ga_public_school_contact_list_Ethan.xlsx\")\n",
    "\n",
    "educators_inexperienced = pd.read_csv(educators_inexperienced_path)\n",
    "educators_out_of_field = pd.read_csv(educators_out_of_field_path)\n",
    "school_id_data = pd.read_excel(school_id_data_path, sheet_name=\"Sheet_1\")\n"
   ]
  },
  {
   "cell_type": "code",
   "execution_count": 16,
   "metadata": {},
   "outputs": [],
   "source": [
    "school_id_data[\"SCHOOL_NAME\"] = school_id_data[\"SCHOOL_NAME\"].str.upper()\n",
    "school_id_data[\"SCHOOL_NAME\"] = school_id_data[\"SCHOOL_NAME\"].str.strip()\n",
    "school_id_data_no_duplicates = school_id_data.drop_duplicates(subset=\"SCHOOL_NAME\", keep=False)"
   ]
  },
  {
   "cell_type": "code",
   "execution_count": 17,
   "metadata": {},
   "outputs": [],
   "source": [
    "educators_inexperienced[\"INSTN_NAME\"] = educators_inexperienced[\"INSTN_NAME\"].str.upper()\n",
    "educators_inexperienced[\"INSTN_NAME\"] = educators_inexperienced[\"INSTN_NAME\"].str.strip()"
   ]
  },
  {
   "cell_type": "code",
   "execution_count": 18,
   "metadata": {},
   "outputs": [],
   "source": [
    "educators_out_of_field[\"INSTN_NAME\"] = educators_out_of_field[\"INSTN_NAME\"].str.upper()\n",
    "educators_out_of_field[\"INSTN_NAME\"] = educators_out_of_field[\"INSTN_NAME\"].str.strip()"
   ]
  },
  {
   "attachments": {},
   "cell_type": "markdown",
   "metadata": {},
   "source": [
    "### Matching for Inexperienced Educators"
   ]
  },
  {
   "cell_type": "code",
   "execution_count": 19,
   "metadata": {},
   "outputs": [],
   "source": [
    "# Get rid of the rows ending with \"ALL SCHOOLS\"\n",
    "educators_inexperienced = educators_inexperienced[~educators_inexperienced[\"INSTN_NAME\"].str.endswith(\"ALL SCHOOLS\")]"
   ]
  },
  {
   "cell_type": "code",
   "execution_count": 20,
   "metadata": {},
   "outputs": [],
   "source": [
    "inexperienced_duplicates = educators_inexperienced[educators_inexperienced.duplicated(subset=[\"INSTN_NAME\"], keep=False)]\n",
    "inexperienced_no_duplicates = educators_inexperienced[~educators_inexperienced.duplicated(subset=[\"INSTN_NAME\"], keep=False)]\n",
    "inexperienced_with_perfect_match = inexperienced_no_duplicates[inexperienced_no_duplicates[\"INSTN_NAME\"].isin(school_id_data[\"SCHOOL_NAME\"])]\n",
    "inexperienced_no_perfect_match = inexperienced_no_duplicates[~inexperienced_no_duplicates[\"INSTN_NAME\"].isin(school_id_data[\"SCHOOL_NAME\"])]"
   ]
  },
  {
   "cell_type": "code",
   "execution_count": 21,
   "metadata": {},
   "outputs": [
    {
     "data": {
      "text/plain": [
       "True"
      ]
     },
     "execution_count": 21,
     "metadata": {},
     "output_type": "execute_result"
    }
   ],
   "source": [
    "inexperienced_with_perfect_match.shape[0] + inexperienced_no_perfect_match.shape[0] + inexperienced_duplicates.shape[0] == educators_inexperienced.shape[0]"
   ]
  },
  {
   "cell_type": "code",
   "execution_count": 22,
   "metadata": {},
   "outputs": [
    {
     "ename": "InvalidIndexError",
     "evalue": "Reindexing only valid with uniquely valued Index objects",
     "output_type": "error",
     "traceback": [
      "\u001b[1;31m---------------------------------------------------------------------------\u001b[0m",
      "\u001b[1;31mInvalidIndexError\u001b[0m                         Traceback (most recent call last)",
      "Cell \u001b[1;32mIn [22], line 2\u001b[0m\n\u001b[0;32m      1\u001b[0m \u001b[39m# add column to inexperienced_with_perfect_match with the school_id\u001b[39;00m\n\u001b[1;32m----> 2\u001b[0m inexperienced_with_perfect_match[\u001b[39m\"\u001b[39m\u001b[39mFull School_ID\u001b[39m\u001b[39m\"\u001b[39m] \u001b[39m=\u001b[39m inexperienced_with_perfect_match[\u001b[39m\"\u001b[39;49m\u001b[39mINSTN_NAME\u001b[39;49m\u001b[39m\"\u001b[39;49m]\u001b[39m.\u001b[39;49mmap(school_id_data\u001b[39m.\u001b[39;49mset_index(\u001b[39m\"\u001b[39;49m\u001b[39mSCHOOL_NAME\u001b[39;49m\u001b[39m\"\u001b[39;49m)[\u001b[39m\"\u001b[39;49m\u001b[39mFull School_ID\u001b[39;49m\u001b[39m\"\u001b[39;49m])\n",
      "File \u001b[1;32mc:\\Users\\ethan_haque\\anaconda3\\envs\\atlanta-school-matching\\lib\\site-packages\\pandas\\core\\series.py:4539\u001b[0m, in \u001b[0;36mSeries.map\u001b[1;34m(self, arg, na_action)\u001b[0m\n\u001b[0;32m   4460\u001b[0m \u001b[39mdef\u001b[39;00m \u001b[39mmap\u001b[39m(\n\u001b[0;32m   4461\u001b[0m     \u001b[39mself\u001b[39m,\n\u001b[0;32m   4462\u001b[0m     arg: Callable \u001b[39m|\u001b[39m Mapping \u001b[39m|\u001b[39m Series,\n\u001b[0;32m   4463\u001b[0m     na_action: Literal[\u001b[39m\"\u001b[39m\u001b[39mignore\u001b[39m\u001b[39m\"\u001b[39m] \u001b[39m|\u001b[39m \u001b[39mNone\u001b[39;00m \u001b[39m=\u001b[39m \u001b[39mNone\u001b[39;00m,\n\u001b[0;32m   4464\u001b[0m ) \u001b[39m-\u001b[39m\u001b[39m>\u001b[39m Series:\n\u001b[0;32m   4465\u001b[0m     \u001b[39m\"\"\"\u001b[39;00m\n\u001b[0;32m   4466\u001b[0m \u001b[39m    Map values of Series according to an input mapping or function.\u001b[39;00m\n\u001b[0;32m   4467\u001b[0m \n\u001b[1;32m   (...)\u001b[0m\n\u001b[0;32m   4537\u001b[0m \u001b[39m    dtype: object\u001b[39;00m\n\u001b[0;32m   4538\u001b[0m \u001b[39m    \"\"\"\u001b[39;00m\n\u001b[1;32m-> 4539\u001b[0m     new_values \u001b[39m=\u001b[39m \u001b[39mself\u001b[39;49m\u001b[39m.\u001b[39;49m_map_values(arg, na_action\u001b[39m=\u001b[39;49mna_action)\n\u001b[0;32m   4540\u001b[0m     \u001b[39mreturn\u001b[39;00m \u001b[39mself\u001b[39m\u001b[39m.\u001b[39m_constructor(new_values, index\u001b[39m=\u001b[39m\u001b[39mself\u001b[39m\u001b[39m.\u001b[39mindex)\u001b[39m.\u001b[39m__finalize__(\n\u001b[0;32m   4541\u001b[0m         \u001b[39mself\u001b[39m, method\u001b[39m=\u001b[39m\u001b[39m\"\u001b[39m\u001b[39mmap\u001b[39m\u001b[39m\"\u001b[39m\n\u001b[0;32m   4542\u001b[0m     )\n",
      "File \u001b[1;32mc:\\Users\\ethan_haque\\anaconda3\\envs\\atlanta-school-matching\\lib\\site-packages\\pandas\\core\\base.py:862\u001b[0m, in \u001b[0;36mIndexOpsMixin._map_values\u001b[1;34m(self, mapper, na_action)\u001b[0m\n\u001b[0;32m    858\u001b[0m     \u001b[39mreturn\u001b[39;00m cat\u001b[39m.\u001b[39mmap(mapper)\n\u001b[0;32m    860\u001b[0m values \u001b[39m=\u001b[39m \u001b[39mself\u001b[39m\u001b[39m.\u001b[39m_values\n\u001b[1;32m--> 862\u001b[0m indexer \u001b[39m=\u001b[39m mapper\u001b[39m.\u001b[39;49mindex\u001b[39m.\u001b[39;49mget_indexer(values)\n\u001b[0;32m    863\u001b[0m new_values \u001b[39m=\u001b[39m algorithms\u001b[39m.\u001b[39mtake_nd(mapper\u001b[39m.\u001b[39m_values, indexer)\n\u001b[0;32m    865\u001b[0m \u001b[39mreturn\u001b[39;00m new_values\n",
      "File \u001b[1;32mc:\\Users\\ethan_haque\\anaconda3\\envs\\atlanta-school-matching\\lib\\site-packages\\pandas\\core\\indexes\\base.py:3905\u001b[0m, in \u001b[0;36mIndex.get_indexer\u001b[1;34m(self, target, method, limit, tolerance)\u001b[0m\n\u001b[0;32m   3902\u001b[0m \u001b[39mself\u001b[39m\u001b[39m.\u001b[39m_check_indexing_method(method, limit, tolerance)\n\u001b[0;32m   3904\u001b[0m \u001b[39mif\u001b[39;00m \u001b[39mnot\u001b[39;00m \u001b[39mself\u001b[39m\u001b[39m.\u001b[39m_index_as_unique:\n\u001b[1;32m-> 3905\u001b[0m     \u001b[39mraise\u001b[39;00m InvalidIndexError(\u001b[39mself\u001b[39m\u001b[39m.\u001b[39m_requires_unique_msg)\n\u001b[0;32m   3907\u001b[0m \u001b[39mif\u001b[39;00m \u001b[39mlen\u001b[39m(target) \u001b[39m==\u001b[39m \u001b[39m0\u001b[39m:\n\u001b[0;32m   3908\u001b[0m     \u001b[39mreturn\u001b[39;00m np\u001b[39m.\u001b[39marray([], dtype\u001b[39m=\u001b[39mnp\u001b[39m.\u001b[39mintp)\n",
      "\u001b[1;31mInvalidIndexError\u001b[0m: Reindexing only valid with uniquely valued Index objects"
     ]
    }
   ],
   "source": [
    "# add column to inexperienced_with_perfect_match with the school_id\n",
    "inexperienced_with_perfect_match[\"Full School_ID\"] = inexperienced_with_perfect_match[\"INSTN_NAME\"].map(school_id_data.set_index(\"SCHOOL_NAME\")[\"Full School_ID\"])\n"
   ]
  },
  {
   "cell_type": "code",
   "execution_count": null,
   "metadata": {},
   "outputs": [],
   "source": [
    "def fuzzy_match_school_name(row):\n",
    "    \"\"\"Matches row of data with school_id_data on school name.\"\"\"\n",
    "    result = process.extractOne(row[\"INSTN_NAME\"], school_id_data[\"SCHOOL_NAME\"])\n",
    "    matching_name = result[0]\n",
    "    confidence = result[1]\n",
    "    row_index = result[2]\n",
    "    school_id = school_id_data.loc[row_index][\"Full School_ID\"]\n",
    "    return school_id, matching_name, confidence"
   ]
  },
  {
   "cell_type": "code",
   "execution_count": null,
   "metadata": {},
   "outputs": [
    {
     "name": "stderr",
     "output_type": "stream",
     "text": [
      "C:\\Users\\ethan_haque\\AppData\\Local\\Temp\\ipykernel_16432\\2508166587.py:1: SettingWithCopyWarning: \n",
      "A value is trying to be set on a copy of a slice from a DataFrame.\n",
      "Try using .loc[row_indexer,col_indexer] = value instead\n",
      "\n",
      "See the caveats in the documentation: https://pandas.pydata.org/pandas-docs/stable/user_guide/indexing.html#returning-a-view-versus-a-copy\n",
      "  inexperienced_no_perfect_match[\"Full School_ID\"] = inexperienced_no_perfect_match.apply(lambda row: fuzzy_match_school_name(row)[0], axis=1)\n"
     ]
    }
   ],
   "source": [
    "inexperienced_no_perfect_match[\"Full School_ID\"] = inexperienced_no_perfect_match.apply(lambda row: fuzzy_match_school_name(row)[0], axis=1)"
   ]
  },
  {
   "cell_type": "code",
   "execution_count": null,
   "metadata": {},
   "outputs": [],
   "source": [
    "inexperienced_fuzzy_matched = pd.merge(inexperienced_no_perfect_match, school_id_data, on=\"Full School_ID\", how=\"left\")\n",
    "inexperienced_fuzzy_matched[\"MATCH_TYPE\"] = \"FUZZY\""
   ]
  },
  {
   "cell_type": "code",
   "execution_count": null,
   "metadata": {},
   "outputs": [],
   "source": [
    "inexperienced_matched = pd.concat([inexperienced_fuzzy_matched, inexperienced_matched])\n",
    "# check dims   "
   ]
  },
  {
   "attachments": {},
   "cell_type": "markdown",
   "metadata": {},
   "source": [
    "### Matching for Out of Field Educators"
   ]
  },
  {
   "attachments": {},
   "cell_type": "markdown",
   "metadata": {},
   "source": [
    "### Saving Output"
   ]
  },
  {
   "cell_type": "code",
   "execution_count": null,
   "metadata": {},
   "outputs": [],
   "source": [
    "output_data_dir = \"matched-data\"\n",
    "inexperienced_output_path = os.path.join(output_data_dir, \"inexperienced_matched.csv\")\n",
    "inexperienced_matched.to_csv(inexperienced_output_path, index=False)"
   ]
  }
 ],
 "metadata": {
  "kernelspec": {
   "display_name": "atlanta-school-matching",
   "language": "python",
   "name": "python3"
  },
  "language_info": {
   "codemirror_mode": {
    "name": "ipython",
    "version": 3
   },
   "file_extension": ".py",
   "mimetype": "text/x-python",
   "name": "python",
   "nbconvert_exporter": "python",
   "pygments_lexer": "ipython3",
   "version": "3.8.15"
  },
  "orig_nbformat": 4,
  "vscode": {
   "interpreter": {
    "hash": "3f5b8ae71cd6f1427f27a2aae7e00ad9764d4a11c4c5b25e9feec828b6b7da8a"
   }
  }
 },
 "nbformat": 4,
 "nbformat_minor": 2
}
