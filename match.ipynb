{
 "cells": [
  {
   "attachments": {},
   "cell_type": "markdown",
   "metadata": {},
   "source": [
    "## Fuzzy Matching School Names\n",
    "\n",
    "Matches school name in educator data with their ids."
   ]
  },
  {
   "cell_type": "code",
   "execution_count": 206,
   "metadata": {},
   "outputs": [],
   "source": [
    "import os\n",
    "import pandas as pd\n",
    "from fuzzywuzzy import fuzz, process\n",
    "from collections import defaultdict"
   ]
  },
  {
   "cell_type": "code",
   "execution_count": 207,
   "metadata": {},
   "outputs": [],
   "source": [
    "input_data_dir = \"data-to-match\"\n",
    "\n",
    "educators_inexperienced_path = os.path.join(input_data_dir, \"Educators_Inexperienced_2018_JAN_24th_2019.csv\")\n",
    "educators_out_of_field_path = os.path.join(input_data_dir, \"Educators_OUT_OF_FIELD_2018_JAN_24th_2019.csv\")\n",
    "school_id_data_path = os.path.join(input_data_dir, \"ga_public_school_contact_list_Ethan.xlsx\")\n",
    "\n",
    "educators_inexperienced = pd.read_csv(educators_inexperienced_path)\n",
    "educators_out_of_field = pd.read_csv(educators_out_of_field_path)\n",
    "school_id_data = pd.read_excel(school_id_data_path, sheet_name=\"Sheet_1\")\n"
   ]
  },
  {
   "cell_type": "code",
   "execution_count": 208,
   "metadata": {},
   "outputs": [],
   "source": [
    "# Cleaning Public School Data.\n",
    "school_id_data[\"SCHOOL_NAME\"] = school_id_data[\"SCHOOL_NAME\"].str.upper()\n",
    "school_id_data[\"SCHOOL_NAME\"] = school_id_data[\"SCHOOL_NAME\"].str.strip()\n",
    "school_id_data[\"SYSTEM_NAME\"] = school_id_data[\"SYSTEM_NAME\"].str.upper()\n",
    "school_id_data[\"SYSTEM_NAME\"] = school_id_data[\"SYSTEM_NAME\"].str.strip()\n",
    "# Must take care of duplicates separately. Some schools have the same name but are differet schools with different IDs.\n",
    "school_id_data_no_duplicates = school_id_data.drop_duplicates(subset=\"SCHOOL_NAME\", keep=False)"
   ]
  },
  {
   "cell_type": "code",
   "execution_count": 209,
   "metadata": {},
   "outputs": [],
   "source": [
    "# Cleaning Educators Inexperienced.\n",
    "educators_inexperienced[\"INSTN_NAME\"] = educators_inexperienced[\"INSTN_NAME\"].str.upper()\n",
    "educators_inexperienced[\"INSTN_NAME\"] = educators_inexperienced[\"INSTN_NAME\"].str.strip()\n",
    "educators_inexperienced[\"SCHOOL_DSTRCT_NM\"] = educators_inexperienced[\"SCHOOL_DSTRCT_NM\"].str.upper()\n",
    "educators_inexperienced[\"SCHOOL_DSTRCT_NM\"] = educators_inexperienced[\"SCHOOL_DSTRCT_NM\"].str.strip()\n",
    "educators_inexperienced = educators_inexperienced[~educators_inexperienced[\"INSTN_NAME\"].str.endswith(\"ALL SCHOOLS\")]"
   ]
  },
  {
   "cell_type": "code",
   "execution_count": 210,
   "metadata": {},
   "outputs": [],
   "source": [
    "# Cleaning Educators Out of Field.\n",
    "educators_out_of_field[\"INSTN_NAME\"] = educators_out_of_field[\"INSTN_NAME\"].str.upper()\n",
    "educators_out_of_field[\"INSTN_NAME\"] = educators_out_of_field[\"INSTN_NAME\"].str.strip()\n",
    "educators_out_of_field[\"SCHOOL_DSTRCT_NM\"] = educators_out_of_field[\"SCHOOL_DSTRCT_NM\"].str.upper()\n",
    "educators_out_of_field[\"SCHOOL_DSTRCT_NM\"] = educators_out_of_field[\"SCHOOL_DSTRCT_NM\"].str.strip()\n",
    "educators_out_of_field = educators_out_of_field[~educators_out_of_field[\"INSTN_NAME\"].str.endswith(\"ALL SCHOOLS\")]"
   ]
  },
  {
   "attachments": {},
   "cell_type": "markdown",
   "metadata": {},
   "source": [
    "### Matching for Inexperienced Educators"
   ]
  },
  {
   "cell_type": "code",
   "execution_count": 211,
   "metadata": {},
   "outputs": [
    {
     "name": "stdout",
     "output_type": "stream",
     "text": [
      "Shape of inexperienced_with_perfect_match: (5587, 8)\n",
      "Shape of inexperienced_no_perfect_match: (97, 8)\n"
     ]
    }
   ],
   "source": [
    "inexperienced_with_perfect_match = educators_inexperienced[educators_inexperienced[\"INSTN_NAME\"].isin(school_id_data[\"SCHOOL_NAME\"])]\n",
    "inexperienced_no_perfect_match = educators_inexperienced[~educators_inexperienced[\"INSTN_NAME\"].isin(school_id_data[\"SCHOOL_NAME\"])]\n",
    "\n",
    "print(\"Shape of inexperienced_with_perfect_match: {}\".format(inexperienced_with_perfect_match.shape))\n",
    "print(\"Shape of inexperienced_no_perfect_match: {}\".format(inexperienced_no_perfect_match.shape))"
   ]
  },
  {
   "cell_type": "code",
   "execution_count": 212,
   "metadata": {},
   "outputs": [
    {
     "name": "stdout",
     "output_type": "stream",
     "text": [
      "Number of schools in inexperienced data: 5684\n",
      "Number of schools in inexperienced data with perfect match: 5587\n",
      "Number of schools in inexperienced data with no perfect match: 97\n",
      "Sizes of perfect and non-perfect subsets is correct: True\n",
      "No overlap between perfect and non-perfect matching subsets: True\n"
     ]
    }
   ],
   "source": [
    "print(\"Number of schools in inexperienced data: {}\".format(len(educators_inexperienced)))\n",
    "print(\"Number of schools in inexperienced data with perfect match: {}\".format(len(inexperienced_with_perfect_match)))\n",
    "print(\"Number of schools in inexperienced data with no perfect match: {}\".format(len(inexperienced_no_perfect_match)))\n",
    "\n",
    "correct_size = inexperienced_with_perfect_match.shape[0] + inexperienced_no_perfect_match.shape[0] == educators_inexperienced.shape[0]\n",
    "print(\"Sizes of perfect and non-perfect subsets is correct: {}\".format(correct_size))\n",
    "\n",
    "no_overlap = len(set(inexperienced_with_perfect_match[\"INSTN_NAME\"]).intersection(set(inexperienced_no_perfect_match[\"INSTN_NAME\"]))) == 0\n",
    "print(\"No overlap between perfect and non-perfect matching subsets: {}\".format(no_overlap))"
   ]
  },
  {
   "cell_type": "code",
   "execution_count": 213,
   "metadata": {},
   "outputs": [
    {
     "name": "stdout",
     "output_type": "stream",
     "text": [
      "Shape of merged_inexperienced: (5587, 31)\n"
     ]
    }
   ],
   "source": [
    "merged_inexperienced = inexperienced_with_perfect_match.merge(\n",
    "    school_id_data, # We can use the full dataset here because we are matching on both school name and county.\n",
    "    left_on=[\"INSTN_NAME\", \"SCHOOL_DSTRCT_NM\"],\n",
    "    right_on=[\"SCHOOL_NAME\", \"SYSTEM_NAME\"],\n",
    "    how=\"left\",\n",
    ")\n",
    "\n",
    "merged_inexperienced[\"MATCH_TYPE\"] = \"PERFECT\"\n",
    "\n",
    "print(\"Shape of merged_inexperienced: {}\".format(merged_inexperienced.shape))"
   ]
  },
  {
   "cell_type": "code",
   "execution_count": 214,
   "metadata": {},
   "outputs": [
    {
     "name": "stdout",
     "output_type": "stream",
     "text": [
      "Number of unmatched schools by county: 272\n"
     ]
    },
    {
     "name": "stderr",
     "output_type": "stream",
     "text": [
      "C:\\Users\\ethan_haque\\AppData\\Local\\Temp\\ipykernel_27872\\3378807028.py:10: SettingWithCopyWarning: \n",
      "A value is trying to be set on a copy of a slice from a DataFrame.\n",
      "Try using .loc[row_indexer,col_indexer] = value instead\n",
      "\n",
      "See the caveats in the documentation: https://pandas.pydata.org/pandas-docs/stable/user_guide/indexing.html#returning-a-view-versus-a-copy\n",
      "  unmatched_inexperienced[\"Full School_ID\"] = unmatched_inexperienced[\"INSTN_NAME\"].map(dictionary)\n",
      "C:\\Users\\ethan_haque\\AppData\\Local\\Temp\\ipykernel_27872\\3378807028.py:12: SettingWithCopyWarning: \n",
      "A value is trying to be set on a copy of a slice from a DataFrame.\n",
      "Try using .loc[row_indexer,col_indexer] = value instead\n",
      "\n",
      "See the caveats in the documentation: https://pandas.pydata.org/pandas-docs/stable/user_guide/indexing.html#returning-a-view-versus-a-copy\n",
      "  unmatched_inexperienced[\"SCHOOL_NAME\"] = unmatched_inexperienced[\"Full School_ID\"].map(school_id_data_no_duplicates.set_index(\"Full School_ID\")[\"SCHOOL_NAME\"])\n",
      "C:\\Users\\ethan_haque\\AppData\\Local\\Temp\\ipykernel_27872\\3378807028.py:13: SettingWithCopyWarning: \n",
      "A value is trying to be set on a copy of a slice from a DataFrame.\n",
      "Try using .loc[row_indexer,col_indexer] = value instead\n",
      "\n",
      "See the caveats in the documentation: https://pandas.pydata.org/pandas-docs/stable/user_guide/indexing.html#returning-a-view-versus-a-copy\n",
      "  unmatched_inexperienced[\"SYSTEM_NAME\"] = unmatched_inexperienced[\"Full School_ID\"].map(school_id_data_no_duplicates.set_index(\"Full School_ID\")[\"SYSTEM_NAME\"])\n",
      "C:\\Users\\ethan_haque\\AppData\\Local\\Temp\\ipykernel_27872\\3378807028.py:17: SettingWithCopyWarning: \n",
      "A value is trying to be set on a copy of a slice from a DataFrame.\n",
      "Try using .loc[row_indexer,col_indexer] = value instead\n",
      "\n",
      "See the caveats in the documentation: https://pandas.pydata.org/pandas-docs/stable/user_guide/indexing.html#returning-a-view-versus-a-copy\n",
      "  unmatched_inexperienced.loc[unmatched_inexperienced[\"Full School_ID\"] != \"\", \"SCORE\"] = 100\n",
      "C:\\Users\\ethan_haque\\AppData\\Local\\Temp\\ipykernel_27872\\3378807028.py:19: SettingWithCopyWarning: \n",
      "A value is trying to be set on a copy of a slice from a DataFrame.\n",
      "Try using .loc[row_indexer,col_indexer] = value instead\n",
      "\n",
      "See the caveats in the documentation: https://pandas.pydata.org/pandas-docs/stable/user_guide/indexing.html#returning-a-view-versus-a-copy\n",
      "  unmatched_inexperienced[\"MATCH_TYPE\"] = \"NON_MATCHING_COUNTY\"\n",
      "C:\\Users\\ethan_haque\\AppData\\Local\\Temp\\ipykernel_27872\\3378807028.py:21: SettingWithCopyWarning: \n",
      "A value is trying to be set on a copy of a slice from a DataFrame.\n",
      "Try using .loc[row_indexer,col_indexer] = value instead\n",
      "\n",
      "See the caveats in the documentation: https://pandas.pydata.org/pandas-docs/stable/user_guide/indexing.html#returning-a-view-versus-a-copy\n",
      "  unmatched_inexperienced_compliment[\"SCORE\"] = 100\n"
     ]
    }
   ],
   "source": [
    "unmatched_inexperienced = merged_inexperienced[merged_inexperienced[\"Full School_ID\"].isnull()]\n",
    "unmatched_inexperienced_compliment = merged_inexperienced[~merged_inexperienced[\"Full School_ID\"].isnull()]\n",
    "\n",
    "print(\"Number of unmatched schools by county: {}\".format(len(unmatched_inexperienced)))\n",
    "\n",
    "dictionary = defaultdict(lambda : \"\")\n",
    "for index, row in school_id_data_no_duplicates.iterrows():\n",
    "    dictionary[row[\"SCHOOL_NAME\"]] = row[\"Full School_ID\"]\n",
    "\n",
    "unmatched_inexperienced[\"Full School_ID\"] = unmatched_inexperienced[\"INSTN_NAME\"].map(dictionary)\n",
    "# Set SCHOOL_NAME and SYSTEM_NAME to the same values as INSTN_NAME and SCHOOL_DSTRCT_NM from the school_id_data_no_duplicates df using the Full School_ID as the key.\n",
    "unmatched_inexperienced[\"SCHOOL_NAME\"] = unmatched_inexperienced[\"Full School_ID\"].map(school_id_data_no_duplicates.set_index(\"Full School_ID\")[\"SCHOOL_NAME\"])\n",
    "unmatched_inexperienced[\"SYSTEM_NAME\"] = unmatched_inexperienced[\"Full School_ID\"].map(school_id_data_no_duplicates.set_index(\"Full School_ID\")[\"SYSTEM_NAME\"])\n",
    "\n",
    "\n",
    "# set the score to 100 for all perfect matches where we have a school ID.\n",
    "unmatched_inexperienced.loc[unmatched_inexperienced[\"Full School_ID\"] != \"\", \"SCORE\"] = 100\n",
    "unmatched_inexperienced.loc[unmatched_inexperienced[\"Full School_ID\"] == \"\", \"SCORE\"] = 0\n",
    "unmatched_inexperienced[\"MATCH_TYPE\"] = \"NON_MATCHING_COUNTY\"\n",
    "\n",
    "unmatched_inexperienced_compliment[\"SCORE\"] = 100\n",
    "\n",
    "merged_inexperienced = pd.concat([unmatched_inexperienced_compliment, unmatched_inexperienced])"
   ]
  },
  {
   "cell_type": "code",
   "execution_count": 215,
   "metadata": {},
   "outputs": [],
   "source": [
    "def fuzzy_match_school_name(name):\n",
    "    \"\"\"Matches school name to school id using fuzzy matching.\n",
    "    \n",
    "    Parameters\n",
    "    ----------\n",
    "    name : str\n",
    "        School name to match.\n",
    "        \n",
    "    Returns\n",
    "    -------\n",
    "    name : str\n",
    "        Tuple of matched name, match confidence score, school id, system name, and school name.\n",
    "    \"\"\"\n",
    "    match = process.extractOne(name, school_id_data_no_duplicates[\"SCHOOL_NAME\"])\n",
    "    name = match[0]\n",
    "    score = match[1]\n",
    "    row = match[2]\n",
    "    school_id = school_id_data_no_duplicates.loc[row][\"Full School_ID\"]\n",
    "    system_name = school_id_data_no_duplicates.loc[row][\"SYSTEM_NAME\"]\n",
    "    school_name = school_id_data_no_duplicates.loc[row][\"SCHOOL_NAME\"]\n",
    "    return (name, score, school_id, system_name, school_name)"
   ]
  },
  {
   "cell_type": "code",
   "execution_count": 216,
   "metadata": {},
   "outputs": [
    {
     "name": "stderr",
     "output_type": "stream",
     "text": [
      "C:\\Users\\ethan_haque\\AppData\\Local\\Temp\\ipykernel_27872\\2101684407.py:1: SettingWithCopyWarning: \n",
      "A value is trying to be set on a copy of a slice from a DataFrame.\n",
      "Try using .loc[row_indexer,col_indexer] = value instead\n",
      "\n",
      "See the caveats in the documentation: https://pandas.pydata.org/pandas-docs/stable/user_guide/indexing.html#returning-a-view-versus-a-copy\n",
      "  inexperienced_no_perfect_match[\"SCHOOL_ID\"] = inexperienced_no_perfect_match[\"INSTN_NAME\"].apply(fuzzy_match_school_name)\n",
      "C:\\Users\\ethan_haque\\AppData\\Local\\Temp\\ipykernel_27872\\2101684407.py:3: SettingWithCopyWarning: \n",
      "A value is trying to be set on a copy of a slice from a DataFrame.\n",
      "Try using .loc[row_indexer,col_indexer] = value instead\n",
      "\n",
      "See the caveats in the documentation: https://pandas.pydata.org/pandas-docs/stable/user_guide/indexing.html#returning-a-view-versus-a-copy\n",
      "  inexperienced_no_perfect_match[[\"SCHOOL_NAME\", \"SCORE\", \"Full School_ID\", \"SYSTEM_NAME\", \"SCHOOL_NAME\"]] = pd.DataFrame(inexperienced_no_perfect_match[\"SCHOOL_ID\"].tolist(), index=inexperienced_no_perfect_match.index)\n",
      "C:\\Users\\ethan_haque\\AppData\\Local\\Temp\\ipykernel_27872\\2101684407.py:3: SettingWithCopyWarning: \n",
      "A value is trying to be set on a copy of a slice from a DataFrame.\n",
      "Try using .loc[row_indexer,col_indexer] = value instead\n",
      "\n",
      "See the caveats in the documentation: https://pandas.pydata.org/pandas-docs/stable/user_guide/indexing.html#returning-a-view-versus-a-copy\n",
      "  inexperienced_no_perfect_match[[\"SCHOOL_NAME\", \"SCORE\", \"Full School_ID\", \"SYSTEM_NAME\", \"SCHOOL_NAME\"]] = pd.DataFrame(inexperienced_no_perfect_match[\"SCHOOL_ID\"].tolist(), index=inexperienced_no_perfect_match.index)\n",
      "C:\\Users\\ethan_haque\\AppData\\Local\\Temp\\ipykernel_27872\\2101684407.py:3: SettingWithCopyWarning: \n",
      "A value is trying to be set on a copy of a slice from a DataFrame.\n",
      "Try using .loc[row_indexer,col_indexer] = value instead\n",
      "\n",
      "See the caveats in the documentation: https://pandas.pydata.org/pandas-docs/stable/user_guide/indexing.html#returning-a-view-versus-a-copy\n",
      "  inexperienced_no_perfect_match[[\"SCHOOL_NAME\", \"SCORE\", \"Full School_ID\", \"SYSTEM_NAME\", \"SCHOOL_NAME\"]] = pd.DataFrame(inexperienced_no_perfect_match[\"SCHOOL_ID\"].tolist(), index=inexperienced_no_perfect_match.index)\n",
      "C:\\Users\\ethan_haque\\AppData\\Local\\Temp\\ipykernel_27872\\2101684407.py:3: SettingWithCopyWarning: \n",
      "A value is trying to be set on a copy of a slice from a DataFrame.\n",
      "Try using .loc[row_indexer,col_indexer] = value instead\n",
      "\n",
      "See the caveats in the documentation: https://pandas.pydata.org/pandas-docs/stable/user_guide/indexing.html#returning-a-view-versus-a-copy\n",
      "  inexperienced_no_perfect_match[[\"SCHOOL_NAME\", \"SCORE\", \"Full School_ID\", \"SYSTEM_NAME\", \"SCHOOL_NAME\"]] = pd.DataFrame(inexperienced_no_perfect_match[\"SCHOOL_ID\"].tolist(), index=inexperienced_no_perfect_match.index)\n"
     ]
    }
   ],
   "source": [
    "inexperienced_no_perfect_match[\"SCHOOL_ID\"] = inexperienced_no_perfect_match[\"INSTN_NAME\"].apply(fuzzy_match_school_name)\n",
    "# Splitting the tuple into separate columns.\n",
    "inexperienced_no_perfect_match[[\"SCHOOL_NAME\", \"SCORE\", \"Full School_ID\", \"SYSTEM_NAME\", \"SCHOOL_NAME\"]] = pd.DataFrame(inexperienced_no_perfect_match[\"SCHOOL_ID\"].tolist(), index=inexperienced_no_perfect_match.index)\n",
    "inexperienced_no_perfect_match = inexperienced_no_perfect_match.drop(\"SCHOOL_ID\", axis=1)\n",
    "\n",
    "inexperienced_no_perfect_match[\"MATCH_TYPE\"] = \"FUZZY\""
   ]
  },
  {
   "attachments": {},
   "cell_type": "markdown",
   "metadata": {},
   "source": [
    "### Matching for Out of Field Educators"
   ]
  },
  {
   "cell_type": "code",
   "execution_count": 217,
   "metadata": {},
   "outputs": [
    {
     "name": "stdout",
     "output_type": "stream",
     "text": [
      "Shape of out_of_field_with_perfect_match: (3343, 8)\n",
      "Shape of out_of_field_no_perfect_match: (59, 8)\n"
     ]
    }
   ],
   "source": [
    "out_of_field_with_perfect_match = educators_out_of_field[educators_out_of_field[\"INSTN_NAME\"].isin(school_id_data[\"SCHOOL_NAME\"])]\n",
    "out_of_field_no_perfect_match = educators_out_of_field[~educators_out_of_field[\"INSTN_NAME\"].isin(school_id_data[\"SCHOOL_NAME\"])]\n",
    "\n",
    "print(\"Shape of out_of_field_with_perfect_match: {}\".format(out_of_field_with_perfect_match.shape))\n",
    "print(\"Shape of out_of_field_no_perfect_match: {}\".format(out_of_field_no_perfect_match.shape))"
   ]
  },
  {
   "cell_type": "code",
   "execution_count": 218,
   "metadata": {},
   "outputs": [
    {
     "name": "stdout",
     "output_type": "stream",
     "text": [
      "Number of schools in out of field data: 3402\n",
      "Number of schools in out of field data with perfect match: 3343\n",
      "Number of schools in out of field data with no perfect match: 59\n",
      "Sizes of out of field data subsets add up to the size of the original data: True\n",
      "There is no overlap between the schools in the out of field data subsets: True\n"
     ]
    }
   ],
   "source": [
    "print(\"Number of schools in out of field data: {}\".format(len(educators_out_of_field)))\n",
    "print(\"Number of schools in out of field data with perfect match: {}\".format(len(out_of_field_with_perfect_match)))\n",
    "print(\"Number of schools in out of field data with no perfect match: {}\".format(len(out_of_field_no_perfect_match)))\n",
    "\n",
    "correct_size = out_of_field_with_perfect_match.shape[0] + out_of_field_no_perfect_match.shape[0] == educators_out_of_field.shape[0]\n",
    "print(\"Sizes of out of field data subsets add up to the size of the original data: {}\".format(correct_size))\n",
    "\n",
    "no_overlap = len(set(out_of_field_with_perfect_match[\"INSTN_NAME\"]).intersection(set(out_of_field_no_perfect_match[\"INSTN_NAME\"]))) == 0\n",
    "print(\"There is no overlap between the schools in the out of field data subsets: {}\".format(no_overlap))"
   ]
  },
  {
   "cell_type": "code",
   "execution_count": 219,
   "metadata": {},
   "outputs": [
    {
     "name": "stdout",
     "output_type": "stream",
     "text": [
      "Shape of merged_out_of_field: (3343, 31)\n"
     ]
    }
   ],
   "source": [
    "merged_out_of_field = pd.merge(\n",
    "    out_of_field_with_perfect_match,\n",
    "    school_id_data, # We can use the full dataset here because we are matching on both school name and county.\n",
    "    left_on=[\"INSTN_NAME\", \"SCHOOL_DSTRCT_NM\"],\n",
    "    right_on=[\"SCHOOL_NAME\", \"SYSTEM_NAME\"],\n",
    "    how=\"left\"\n",
    ")\n",
    "\n",
    "merged_out_of_field[\"MATCH_TYPE\"] = \"PERFECT\"\n",
    "\n",
    "print(\"Shape of merged_out_of_field: {}\".format(merged_out_of_field.shape))"
   ]
  },
  {
   "cell_type": "code",
   "execution_count": 220,
   "metadata": {},
   "outputs": [
    {
     "name": "stdout",
     "output_type": "stream",
     "text": [
      "Number of unmatched schools by county: 156\n"
     ]
    },
    {
     "name": "stderr",
     "output_type": "stream",
     "text": [
      "C:\\Users\\ethan_haque\\AppData\\Local\\Temp\\ipykernel_27872\\2400156605.py:7: SettingWithCopyWarning: \n",
      "A value is trying to be set on a copy of a slice from a DataFrame.\n",
      "Try using .loc[row_indexer,col_indexer] = value instead\n",
      "\n",
      "See the caveats in the documentation: https://pandas.pydata.org/pandas-docs/stable/user_guide/indexing.html#returning-a-view-versus-a-copy\n",
      "  unmatched_out_of_field[\"Full School_ID\"] = unmatched_out_of_field[\"INSTN_NAME\"].map(dictionary)\n",
      "C:\\Users\\ethan_haque\\AppData\\Local\\Temp\\ipykernel_27872\\2400156605.py:9: SettingWithCopyWarning: \n",
      "A value is trying to be set on a copy of a slice from a DataFrame.\n",
      "Try using .loc[row_indexer,col_indexer] = value instead\n",
      "\n",
      "See the caveats in the documentation: https://pandas.pydata.org/pandas-docs/stable/user_guide/indexing.html#returning-a-view-versus-a-copy\n",
      "  unmatched_out_of_field[\"SCHOOL_NAME\"] = unmatched_out_of_field[\"Full School_ID\"].map(school_id_data_no_duplicates.set_index(\"Full School_ID\")[\"SCHOOL_NAME\"])\n",
      "C:\\Users\\ethan_haque\\AppData\\Local\\Temp\\ipykernel_27872\\2400156605.py:10: SettingWithCopyWarning: \n",
      "A value is trying to be set on a copy of a slice from a DataFrame.\n",
      "Try using .loc[row_indexer,col_indexer] = value instead\n",
      "\n",
      "See the caveats in the documentation: https://pandas.pydata.org/pandas-docs/stable/user_guide/indexing.html#returning-a-view-versus-a-copy\n",
      "  unmatched_out_of_field[\"SYSTEM_NAME\"] = unmatched_out_of_field[\"Full School_ID\"].map(school_id_data_no_duplicates.set_index(\"Full School_ID\")[\"SYSTEM_NAME\"])\n",
      "C:\\Users\\ethan_haque\\AppData\\Local\\Temp\\ipykernel_27872\\2400156605.py:14: SettingWithCopyWarning: \n",
      "A value is trying to be set on a copy of a slice from a DataFrame.\n",
      "Try using .loc[row_indexer,col_indexer] = value instead\n",
      "\n",
      "See the caveats in the documentation: https://pandas.pydata.org/pandas-docs/stable/user_guide/indexing.html#returning-a-view-versus-a-copy\n",
      "  unmatched_out_of_field.loc[unmatched_out_of_field[\"Full School_ID\"] != \"\", \"SCORE\"] = 100\n",
      "C:\\Users\\ethan_haque\\AppData\\Local\\Temp\\ipykernel_27872\\2400156605.py:16: SettingWithCopyWarning: \n",
      "A value is trying to be set on a copy of a slice from a DataFrame.\n",
      "Try using .loc[row_indexer,col_indexer] = value instead\n",
      "\n",
      "See the caveats in the documentation: https://pandas.pydata.org/pandas-docs/stable/user_guide/indexing.html#returning-a-view-versus-a-copy\n",
      "  unmatched_out_of_field[\"MATCH_TYPE\"] = \"NON_MATCHING_COUNTY\"\n",
      "C:\\Users\\ethan_haque\\AppData\\Local\\Temp\\ipykernel_27872\\2400156605.py:18: SettingWithCopyWarning: \n",
      "A value is trying to be set on a copy of a slice from a DataFrame.\n",
      "Try using .loc[row_indexer,col_indexer] = value instead\n",
      "\n",
      "See the caveats in the documentation: https://pandas.pydata.org/pandas-docs/stable/user_guide/indexing.html#returning-a-view-versus-a-copy\n",
      "  unmatched_out_of_field_compliment[\"SCORE\"] = 100\n"
     ]
    }
   ],
   "source": [
    "unmatched_out_of_field = merged_out_of_field[merged_out_of_field[\"Full School_ID\"].isnull()]\n",
    "unmatched_out_of_field_compliment = merged_out_of_field[~merged_out_of_field[\"Full School_ID\"].isnull()]\n",
    "\n",
    "print(\"Number of unmatched schools by county: {}\".format(len(unmatched_out_of_field)))\n",
    "\n",
    "# using old dictionary from before\n",
    "unmatched_out_of_field[\"Full School_ID\"] = unmatched_out_of_field[\"INSTN_NAME\"].map(dictionary)\n",
    "# Set SCHOOL_NAME and SYSTEM_NAME to the same values as INSTN_NAME and SCHOOL_DSTRCT_NM from the school_id_data_no_duplicates df using the Full School_ID as the key.\n",
    "unmatched_out_of_field[\"SCHOOL_NAME\"] = unmatched_out_of_field[\"Full School_ID\"].map(school_id_data_no_duplicates.set_index(\"Full School_ID\")[\"SCHOOL_NAME\"])\n",
    "unmatched_out_of_field[\"SYSTEM_NAME\"] = unmatched_out_of_field[\"Full School_ID\"].map(school_id_data_no_duplicates.set_index(\"Full School_ID\")[\"SYSTEM_NAME\"])\n",
    "\n",
    "\n",
    "# set the score to 100 for all perfect matches where we have a school ID.\n",
    "unmatched_out_of_field.loc[unmatched_out_of_field[\"Full School_ID\"] != \"\", \"SCORE\"] = 100\n",
    "unmatched_out_of_field.loc[unmatched_out_of_field[\"Full School_ID\"] == \"\", \"SCORE\"] = 0\n",
    "unmatched_out_of_field[\"MATCH_TYPE\"] = \"NON_MATCHING_COUNTY\"\n",
    "\n",
    "unmatched_out_of_field_compliment[\"SCORE\"] = 100\n",
    "\n",
    "merged_out_of_field = pd.concat([unmatched_out_of_field_compliment, unmatched_out_of_field])"
   ]
  },
  {
   "cell_type": "code",
   "execution_count": 221,
   "metadata": {},
   "outputs": [
    {
     "name": "stderr",
     "output_type": "stream",
     "text": [
      "C:\\Users\\ethan_haque\\AppData\\Local\\Temp\\ipykernel_27872\\3301922206.py:1: SettingWithCopyWarning: \n",
      "A value is trying to be set on a copy of a slice from a DataFrame.\n",
      "Try using .loc[row_indexer,col_indexer] = value instead\n",
      "\n",
      "See the caveats in the documentation: https://pandas.pydata.org/pandas-docs/stable/user_guide/indexing.html#returning-a-view-versus-a-copy\n",
      "  out_of_field_no_perfect_match[\"SCHOOL_ID\"] = out_of_field_no_perfect_match[\"INSTN_NAME\"].apply(fuzzy_match_school_name)\n",
      "C:\\Users\\ethan_haque\\AppData\\Local\\Temp\\ipykernel_27872\\3301922206.py:3: SettingWithCopyWarning: \n",
      "A value is trying to be set on a copy of a slice from a DataFrame.\n",
      "Try using .loc[row_indexer,col_indexer] = value instead\n",
      "\n",
      "See the caveats in the documentation: https://pandas.pydata.org/pandas-docs/stable/user_guide/indexing.html#returning-a-view-versus-a-copy\n",
      "  out_of_field_no_perfect_match[[\"SCHOOL_NAME\", \"SCORE\", \"Full School_ID\", \"SYSTEM_NAME\", \"SCHOOL_NAME\"]] = pd.DataFrame(out_of_field_no_perfect_match[\"SCHOOL_ID\"].tolist(), index=out_of_field_no_perfect_match.index)\n",
      "C:\\Users\\ethan_haque\\AppData\\Local\\Temp\\ipykernel_27872\\3301922206.py:3: SettingWithCopyWarning: \n",
      "A value is trying to be set on a copy of a slice from a DataFrame.\n",
      "Try using .loc[row_indexer,col_indexer] = value instead\n",
      "\n",
      "See the caveats in the documentation: https://pandas.pydata.org/pandas-docs/stable/user_guide/indexing.html#returning-a-view-versus-a-copy\n",
      "  out_of_field_no_perfect_match[[\"SCHOOL_NAME\", \"SCORE\", \"Full School_ID\", \"SYSTEM_NAME\", \"SCHOOL_NAME\"]] = pd.DataFrame(out_of_field_no_perfect_match[\"SCHOOL_ID\"].tolist(), index=out_of_field_no_perfect_match.index)\n",
      "C:\\Users\\ethan_haque\\AppData\\Local\\Temp\\ipykernel_27872\\3301922206.py:3: SettingWithCopyWarning: \n",
      "A value is trying to be set on a copy of a slice from a DataFrame.\n",
      "Try using .loc[row_indexer,col_indexer] = value instead\n",
      "\n",
      "See the caveats in the documentation: https://pandas.pydata.org/pandas-docs/stable/user_guide/indexing.html#returning-a-view-versus-a-copy\n",
      "  out_of_field_no_perfect_match[[\"SCHOOL_NAME\", \"SCORE\", \"Full School_ID\", \"SYSTEM_NAME\", \"SCHOOL_NAME\"]] = pd.DataFrame(out_of_field_no_perfect_match[\"SCHOOL_ID\"].tolist(), index=out_of_field_no_perfect_match.index)\n",
      "C:\\Users\\ethan_haque\\AppData\\Local\\Temp\\ipykernel_27872\\3301922206.py:3: SettingWithCopyWarning: \n",
      "A value is trying to be set on a copy of a slice from a DataFrame.\n",
      "Try using .loc[row_indexer,col_indexer] = value instead\n",
      "\n",
      "See the caveats in the documentation: https://pandas.pydata.org/pandas-docs/stable/user_guide/indexing.html#returning-a-view-versus-a-copy\n",
      "  out_of_field_no_perfect_match[[\"SCHOOL_NAME\", \"SCORE\", \"Full School_ID\", \"SYSTEM_NAME\", \"SCHOOL_NAME\"]] = pd.DataFrame(out_of_field_no_perfect_match[\"SCHOOL_ID\"].tolist(), index=out_of_field_no_perfect_match.index)\n"
     ]
    }
   ],
   "source": [
    "out_of_field_no_perfect_match[\"SCHOOL_ID\"] = out_of_field_no_perfect_match[\"INSTN_NAME\"].apply(fuzzy_match_school_name)\n",
    "# Splitting the tuple into separate columns.\n",
    "out_of_field_no_perfect_match[[\"SCHOOL_NAME\", \"SCORE\", \"Full School_ID\", \"SYSTEM_NAME\", \"SCHOOL_NAME\"]] = pd.DataFrame(out_of_field_no_perfect_match[\"SCHOOL_ID\"].tolist(), index=out_of_field_no_perfect_match.index)\n",
    "out_of_field_no_perfect_match = out_of_field_no_perfect_match.drop(\"SCHOOL_ID\", axis=1)\n",
    "\n",
    "out_of_field_no_perfect_match[\"MATCH_TYPE\"] = \"FUZZY\""
   ]
  },
  {
   "attachments": {},
   "cell_type": "markdown",
   "metadata": {},
   "source": [
    "### Saving Output"
   ]
  },
  {
   "cell_type": "code",
   "execution_count": 222,
   "metadata": {},
   "outputs": [],
   "source": [
    "output_dir = \"matched-data\""
   ]
  },
  {
   "cell_type": "code",
   "execution_count": null,
   "metadata": {},
   "outputs": [],
   "source": [
    "# rememeber to remove non-alphanumeric characters from school names.\n",
    "\n",
    "inexperienced_matched = pd.concat([merged_inexperienced, inexperienced_no_perfect_match])\n",
    "inexperienced_matched[\n",
    "    [\n",
    "        \"LONG_SCHOOL_YEAR\",\n",
    "        \"SCHOOL_DSTRCT_NM\",\n",
    "        \"INSTN_NAME\",\n",
    "        \"SYSTEM_NAME\",\n",
    "        \"SCHOOL_NAME\",\n",
    "        \"LABEL_LVL_3_DESC\",\n",
    "        \"LABEL_LVL_2_DESC\",\n",
    "        \"FTE\",\n",
    "        \"INEXPERIENCED_FTE\",\n",
    "        \"INEXPERIENCED_FTE_PCT\",\n",
    "        \"Full School_ID\",\n",
    "        \"MATCH_TYPE\",\n",
    "        \"SCORE\"\n",
    "    ]\n",
    "].to_csv(os.path.join(output_dir, \"inexperienced-matched.csv\"), index=False)\n",
    "\n",
    "# Cleaned by hand.\n",
    "\n"
   ]
  },
  {
   "cell_type": "code",
   "execution_count": 223,
   "metadata": {},
   "outputs": [],
   "source": [
    "out_of_field_matched = pd.concat([merged_out_of_field, out_of_field_no_perfect_match])\n",
    "out_of_field_matched[\n",
    "    [\n",
    "        \"LONG_SCHOOL_YEAR\",\n",
    "        \"SCHOOL_DSTRCT_NM\",\n",
    "        \"INSTN_NAME\",\n",
    "        \"SYSTEM_NAME\",\n",
    "        \"SCHOOL_NAME\",\n",
    "        \"LABEL_LVL_3_DESC\",\n",
    "        \"LABEL_LVL_2_DESC\",\n",
    "        \"FTE\",\n",
    "        \"OUTOFFIELD_FTE\",\n",
    "        \"OUTOFFIELD_FTE_PCT\",\n",
    "        \"Full School_ID\",\n",
    "        \"MATCH_TYPE\",\n",
    "        \"SCORE\"\n",
    "    ]\n",
    "].to_csv(os.path.join(output_dir, \"out-of-field-matched.csv\"), index=False)\n",
    "\n",
    "# Cleaned by hand."
   ]
  }
 ],
 "metadata": {
  "kernelspec": {
   "display_name": "atlanta-school-matching",
   "language": "python",
   "name": "python3"
  },
  "language_info": {
   "codemirror_mode": {
    "name": "ipython",
    "version": 3
   },
   "file_extension": ".py",
   "mimetype": "text/x-python",
   "name": "python",
   "nbconvert_exporter": "python",
   "pygments_lexer": "ipython3",
   "version": "3.8.15"
  },
  "orig_nbformat": 4,
  "vscode": {
   "interpreter": {
    "hash": "3f5b8ae71cd6f1427f27a2aae7e00ad9764d4a11c4c5b25e9feec828b6b7da8a"
   }
  }
 },
 "nbformat": 4,
 "nbformat_minor": 2
}
