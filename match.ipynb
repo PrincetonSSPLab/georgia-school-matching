{
 "cells": [
  {
   "attachments": {},
   "cell_type": "markdown",
   "metadata": {},
   "source": [
    "## Fuzzy Matching School Names\n",
    "\n",
    "Matches school name in educator data with their ids."
   ]
  },
  {
   "cell_type": "code",
   "execution_count": 14,
   "metadata": {},
   "outputs": [],
   "source": [
    "import os\n",
    "import pandas as pd\n",
    "from fuzzywuzzy import fuzz, process\n",
    "from collections import defaultdict"
   ]
  },
  {
   "cell_type": "code",
   "execution_count": 15,
   "metadata": {},
   "outputs": [],
   "source": [
    "input_data_dir = \"data-to-match\"\n",
    "\n",
    "educators_inexperienced_path = os.path.join(input_data_dir, \"Educators_Inexperienced_2018_JAN_24th_2019.csv\")\n",
    "educators_out_of_field_path = os.path.join(input_data_dir, \"Educators_OUT_OF_FIELD_2018_JAN_24th_2019.csv\")\n",
    "school_id_data_path = os.path.join(input_data_dir, \"ga_public_school_contact_list_Ethan.xlsx\")\n",
    "\n",
    "educators_inexperienced = pd.read_csv(educators_inexperienced_path)\n",
    "educators_out_of_field = pd.read_csv(educators_out_of_field_path)\n",
    "school_id_data = pd.read_excel(school_id_data_path, sheet_name=\"Sheet_1\")\n"
   ]
  },
  {
   "cell_type": "code",
   "execution_count": 16,
   "metadata": {},
   "outputs": [],
   "source": [
    "# Cleaning Public School Data.\n",
    "school_id_data[\"SCHOOL_NAME\"] = school_id_data[\"SCHOOL_NAME\"].str.upper()\n",
    "school_id_data[\"SCHOOL_NAME\"] = school_id_data[\"SCHOOL_NAME\"].str.strip()\n",
    "school_id_data[\"SYSTEM_NAME\"] = school_id_data[\"SYSTEM_NAME\"].str.upper()\n",
    "school_id_data[\"SYSTEM_NAME\"] = school_id_data[\"SYSTEM_NAME\"].str.strip()\n",
    "# Must take care of duplicates separately. Some schools have the same name but are differet schools with different IDs.\n",
    "school_id_data_no_duplicates = school_id_data.drop_duplicates(subset=\"SCHOOL_NAME\", keep=False)"
   ]
  },
  {
   "cell_type": "code",
   "execution_count": 17,
   "metadata": {},
   "outputs": [],
   "source": [
    "# Cleaning Educators Inexperienced.\n",
    "educators_inexperienced[\"INSTN_NAME\"] = educators_inexperienced[\"INSTN_NAME\"].str.upper()\n",
    "educators_inexperienced[\"INSTN_NAME\"] = educators_inexperienced[\"INSTN_NAME\"].str.strip()\n",
    "educators_inexperienced[\"SCHOOL_DSTRCT_NM\"] = educators_inexperienced[\"SCHOOL_DSTRCT_NM\"].str.upper()\n",
    "educators_inexperienced[\"SCHOOL_DSTRCT_NM\"] = educators_inexperienced[\"SCHOOL_DSTRCT_NM\"].str.strip()\n",
    "educators_inexperienced = educators_inexperienced[~educators_inexperienced[\"INSTN_NAME\"].str.endswith(\"ALL SCHOOLS\")]"
   ]
  },
  {
   "cell_type": "code",
   "execution_count": 18,
   "metadata": {},
   "outputs": [],
   "source": [
    "# Cleaning Educators Out of Field.\n",
    "educators_out_of_field[\"INSTN_NAME\"] = educators_out_of_field[\"INSTN_NAME\"].str.upper()\n",
    "educators_out_of_field[\"INSTN_NAME\"] = educators_out_of_field[\"INSTN_NAME\"].str.strip()\n",
    "educators_out_of_field[\"SCHOOL_DSTRCT_NM\"] = educators_out_of_field[\"SCHOOL_DSTRCT_NM\"].str.upper()\n",
    "educators_out_of_field[\"SCHOOL_DSTRCT_NM\"] = educators_out_of_field[\"SCHOOL_DSTRCT_NM\"].str.strip()\n",
    "educators_out_of_field = educators_out_of_field[~educators_out_of_field[\"INSTN_NAME\"].str.endswith(\"ALL SCHOOLS\")]"
   ]
  },
  {
   "attachments": {},
   "cell_type": "markdown",
   "metadata": {},
   "source": [
    "### Matching for Inexperienced Educators"
   ]
  },
  {
   "cell_type": "code",
   "execution_count": 19,
   "metadata": {},
   "outputs": [
    {
     "name": "stdout",
     "output_type": "stream",
     "text": [
      "Shape of inexperienced_with_perfect_match: (5587, 8)\n",
      "Shape of inexperienced_no_perfect_match: (97, 8)\n"
     ]
    }
   ],
   "source": [
    "inexperienced_with_perfect_match = educators_inexperienced[educators_inexperienced[\"INSTN_NAME\"].isin(school_id_data[\"SCHOOL_NAME\"])]\n",
    "inexperienced_no_perfect_match = educators_inexperienced[~educators_inexperienced[\"INSTN_NAME\"].isin(school_id_data[\"SCHOOL_NAME\"])]\n",
    "\n",
    "print(\"Shape of inexperienced_with_perfect_match: {}\".format(inexperienced_with_perfect_match.shape))\n",
    "print(\"Shape of inexperienced_no_perfect_match: {}\".format(inexperienced_no_perfect_match.shape))"
   ]
  },
  {
   "cell_type": "code",
   "execution_count": 20,
   "metadata": {},
   "outputs": [
    {
     "name": "stdout",
     "output_type": "stream",
     "text": [
      "Number of schools in inexperienced data: 5684\n",
      "Number of schools in inexperienced data with perfect match: 5587\n",
      "Number of schools in inexperienced data with no perfect match: 97\n",
      "Sizes of perfect and non-perfect subsets is correct: True\n",
      "No overlap between perfect and non-perfect matching subsets: True\n"
     ]
    }
   ],
   "source": [
    "print(\"Number of schools in inexperienced data: {}\".format(len(educators_inexperienced)))\n",
    "print(\"Number of schools in inexperienced data with perfect match: {}\".format(len(inexperienced_with_perfect_match)))\n",
    "print(\"Number of schools in inexperienced data with no perfect match: {}\".format(len(inexperienced_no_perfect_match)))\n",
    "\n",
    "correct_size = inexperienced_with_perfect_match.shape[0] + inexperienced_no_perfect_match.shape[0] == educators_inexperienced.shape[0]\n",
    "print(\"Sizes of perfect and non-perfect subsets is correct: {}\".format(correct_size))\n",
    "\n",
    "no_overlap = len(set(inexperienced_with_perfect_match[\"INSTN_NAME\"]).intersection(set(inexperienced_no_perfect_match[\"INSTN_NAME\"]))) == 0\n",
    "print(\"No overlap between perfect and non-perfect matching subsets: {}\".format(no_overlap))"
   ]
  },
  {
   "cell_type": "code",
   "execution_count": 21,
   "metadata": {},
   "outputs": [
    {
     "name": "stdout",
     "output_type": "stream",
     "text": [
      "Shape of merged_inexperienced: (5587, 31)\n"
     ]
    }
   ],
   "source": [
    "merged_inexperienced = inexperienced_with_perfect_match.merge(\n",
    "    school_id_data, # We can use the full dataset here because we are matching on both school name and county.\n",
    "    left_on=[\"INSTN_NAME\", \"SCHOOL_DSTRCT_NM\"],\n",
    "    right_on=[\"SCHOOL_NAME\", \"SYSTEM_NAME\"],\n",
    "    how=\"left\",\n",
    ")\n",
    "\n",
    "merged_inexperienced[\"MATCH_TYPE\"] = \"PERFECT\"\n",
    "merged_inexperienced[\"SCORE\"] = 100\n",
    "\n",
    "print(\"Shape of merged_inexperienced: {}\".format(merged_inexperienced.shape))"
   ]
  },
  {
   "cell_type": "code",
   "execution_count": 22,
   "metadata": {},
   "outputs": [
    {
     "name": "stdout",
     "output_type": "stream",
     "text": [
      "Number of unmatched schools by county: 272\n"
     ]
    },
    {
     "name": "stderr",
     "output_type": "stream",
     "text": [
      "C:\\Users\\ethan_haque\\AppData\\Local\\Temp\\ipykernel_27872\\2087428240.py:8: SettingWithCopyWarning: \n",
      "A value is trying to be set on a copy of a slice from a DataFrame.\n",
      "Try using .loc[row_indexer,col_indexer] = value instead\n",
      "\n",
      "See the caveats in the documentation: https://pandas.pydata.org/pandas-docs/stable/user_guide/indexing.html#returning-a-view-versus-a-copy\n",
      "  unmatched_by_county[\"Full School_ID\"] = unmatched_by_county[\"INSTN_NAME\"].map(dictionary)\n",
      "C:\\Users\\ethan_haque\\AppData\\Local\\Temp\\ipykernel_27872\\2087428240.py:10: SettingWithCopyWarning: \n",
      "A value is trying to be set on a copy of a slice from a DataFrame.\n",
      "Try using .loc[row_indexer,col_indexer] = value instead\n",
      "\n",
      "See the caveats in the documentation: https://pandas.pydata.org/pandas-docs/stable/user_guide/indexing.html#returning-a-view-versus-a-copy\n",
      "  unmatched_by_county[\"MATCH_TYPE\"] = \"NON_MATCHING_COUNTY\"\n"
     ]
    }
   ],
   "source": [
    "unmatched_by_county = merged_inexperienced[merged_inexperienced[\"Full School_ID\"].isnull()]\n",
    "print(\"Number of unmatched schools by county: {}\".format(len(unmatched_by_county)))\n",
    "\n",
    "dictionary = defaultdict(lambda : \"\")\n",
    "for index, row in school_id_data_no_duplicates.iterrows():\n",
    "    dictionary[row[\"SCHOOL_NAME\"]] = row[\"Full School_ID\"]\n",
    "\n",
    "unmatched_by_county[\"Full School_ID\"] = unmatched_by_county[\"INSTN_NAME\"].map(dictionary)\n",
    "\n",
    "unmatched_by_county[\"MATCH_TYPE\"] = \"NON_MATCHING_COUNTY\"\n",
    "unmatched_by_county[\"SCORE\"] = 100"
   ]
  },
  {
   "cell_type": "code",
   "execution_count": 29,
   "metadata": {},
   "outputs": [],
   "source": [
    "def fuzzy_match_school_name(name):\n",
    "    \"\"\"Matches school name to school id using fuzzy matching.\n",
    "    \n",
    "    Parameters\n",
    "    ----------\n",
    "    name : str\n",
    "        School name to match.\n",
    "        \n",
    "    Returns\n",
    "    -------\n",
    "    name : str\n",
    "        Tuple of matched name, match confidence score, school id, system name, and school name.\n",
    "    \"\"\"\n",
    "    match = process.extractOne(name, school_id_data_no_duplicates[\"SCHOOL_NAME\"])\n",
    "    name = match[0]\n",
    "    score = match[1]\n",
    "    row = match[2]\n",
    "    school_id = school_id_data_no_duplicates.loc[row][\"Full School_ID\"]\n",
    "    system_name = school_id_data_no_duplicates.loc[row][\"SYSTEM_NAME\"]\n",
    "    school_name = school_id_data_no_duplicates.loc[row][\"SCHOOL_NAME\"]\n",
    "    return (name, score, school_id, system_name, school_name)"
   ]
  },
  {
   "cell_type": "code",
   "execution_count": 33,
   "metadata": {},
   "outputs": [
    {
     "name": "stderr",
     "output_type": "stream",
     "text": [
      "C:\\Users\\ethan_haque\\AppData\\Local\\Temp\\ipykernel_27872\\2101684407.py:1: SettingWithCopyWarning: \n",
      "A value is trying to be set on a copy of a slice from a DataFrame.\n",
      "Try using .loc[row_indexer,col_indexer] = value instead\n",
      "\n",
      "See the caveats in the documentation: https://pandas.pydata.org/pandas-docs/stable/user_guide/indexing.html#returning-a-view-versus-a-copy\n",
      "  inexperienced_no_perfect_match[\"SCHOOL_ID\"] = inexperienced_no_perfect_match[\"INSTN_NAME\"].apply(fuzzy_match_school_name)\n",
      "C:\\Users\\ethan_haque\\AppData\\Local\\Temp\\ipykernel_27872\\2101684407.py:3: SettingWithCopyWarning: \n",
      "A value is trying to be set on a copy of a slice from a DataFrame.\n",
      "Try using .loc[row_indexer,col_indexer] = value instead\n",
      "\n",
      "See the caveats in the documentation: https://pandas.pydata.org/pandas-docs/stable/user_guide/indexing.html#returning-a-view-versus-a-copy\n",
      "  inexperienced_no_perfect_match[[\"SCHOOL_NAME\", \"SCORE\", \"Full School_ID\", \"SYSTEM_NAME\", \"SCHOOL_NAME\"]] = pd.DataFrame(inexperienced_no_perfect_match[\"SCHOOL_ID\"].tolist(), index=inexperienced_no_perfect_match.index)\n"
     ]
    }
   ],
   "source": [
    "inexperienced_no_perfect_match[\"SCHOOL_ID\"] = inexperienced_no_perfect_match[\"INSTN_NAME\"].apply(fuzzy_match_school_name)\n",
    "# Splitting the tuple into separate columns.\n",
    "inexperienced_no_perfect_match[[\"SCHOOL_NAME\", \"SCORE\", \"Full School_ID\", \"SYSTEM_NAME\", \"SCHOOL_NAME\"]] = pd.DataFrame(inexperienced_no_perfect_match[\"SCHOOL_ID\"].tolist(), index=inexperienced_no_perfect_match.index)\n",
    "inexperienced_no_perfect_match = inexperienced_no_perfect_match.drop(\"SCHOOL_ID\", axis=1)\n",
    "\n",
    "inexperienced_no_perfect_match[\"MATCH_TYPE\"] = \"FUZZY\""
   ]
  },
  {
   "cell_type": "code",
   "execution_count": 34,
   "metadata": {},
   "outputs": [
    {
     "data": {
      "text/html": [
       "<div>\n",
       "<style scoped>\n",
       "    .dataframe tbody tr th:only-of-type {\n",
       "        vertical-align: middle;\n",
       "    }\n",
       "\n",
       "    .dataframe tbody tr th {\n",
       "        vertical-align: top;\n",
       "    }\n",
       "\n",
       "    .dataframe thead th {\n",
       "        text-align: right;\n",
       "    }\n",
       "</style>\n",
       "<table border=\"1\" class=\"dataframe\">\n",
       "  <thead>\n",
       "    <tr style=\"text-align: right;\">\n",
       "      <th></th>\n",
       "      <th>LONG_SCHOOL_YEAR</th>\n",
       "      <th>SCHOOL_DSTRCT_NM</th>\n",
       "      <th>INSTN_NAME</th>\n",
       "      <th>LABEL_LVL_3_DESC</th>\n",
       "      <th>LABEL_LVL_2_DESC</th>\n",
       "      <th>FTE</th>\n",
       "      <th>INEXPERIENCED_FTE</th>\n",
       "      <th>INEXPERIENCED_FTE_PCT</th>\n",
       "      <th>MATCH_TYPE</th>\n",
       "      <th>SCHOOL_NAME</th>\n",
       "      <th>SCORE</th>\n",
       "      <th>Full School_ID</th>\n",
       "      <th>SYSTEM_NAME</th>\n",
       "    </tr>\n",
       "  </thead>\n",
       "  <tbody>\n",
       "    <tr>\n",
       "      <th>309</th>\n",
       "      <td>2017-18</td>\n",
       "      <td>BAKER COUNTY</td>\n",
       "      <td>BAKER COUNTY LEARNING CENTER</td>\n",
       "      <td>Leaders</td>\n",
       "      <td>High Poverty</td>\n",
       "      <td>0.3</td>\n",
       "      <td>0.3</td>\n",
       "      <td>100</td>\n",
       "      <td>FUZZY</td>\n",
       "      <td>CRISP COUNTY PRE-K</td>\n",
       "      <td>86</td>\n",
       "      <td>6405050</td>\n",
       "      <td>CRISP COUNTY</td>\n",
       "    </tr>\n",
       "    <tr>\n",
       "      <th>310</th>\n",
       "      <td>2017-18</td>\n",
       "      <td>BAKER COUNTY</td>\n",
       "      <td>BAKER COUNTY LEARNING CENTER</td>\n",
       "      <td>Teachers</td>\n",
       "      <td>High Poverty</td>\n",
       "      <td>1.0</td>\n",
       "      <td>1.0</td>\n",
       "      <td>100</td>\n",
       "      <td>FUZZY</td>\n",
       "      <td>CRISP COUNTY PRE-K</td>\n",
       "      <td>86</td>\n",
       "      <td>6405050</td>\n",
       "      <td>CRISP COUNTY</td>\n",
       "    </tr>\n",
       "    <tr>\n",
       "      <th>311</th>\n",
       "      <td>2017-18</td>\n",
       "      <td>BAKER COUNTY</td>\n",
       "      <td>BAKER COUNTY LEARNING CENTER</td>\n",
       "      <td>Teachers</td>\n",
       "      <td>Total</td>\n",
       "      <td>1.0</td>\n",
       "      <td>1.0</td>\n",
       "      <td>100</td>\n",
       "      <td>FUZZY</td>\n",
       "      <td>CRISP COUNTY PRE-K</td>\n",
       "      <td>86</td>\n",
       "      <td>6405050</td>\n",
       "      <td>CRISP COUNTY</td>\n",
       "    </tr>\n",
       "    <tr>\n",
       "      <th>745</th>\n",
       "      <td>2017-18</td>\n",
       "      <td>CALHOUN CITY</td>\n",
       "      <td>CALHOUN PRIMARY SCHOOL</td>\n",
       "      <td>Leaders</td>\n",
       "      <td>Not Applicable</td>\n",
       "      <td>2.0</td>\n",
       "      <td>0.0</td>\n",
       "      <td>0</td>\n",
       "      <td>FUZZY</td>\n",
       "      <td>BLECKLEY COUNTY ELEMENTARY SCHOOL</td>\n",
       "      <td>86</td>\n",
       "      <td>6120197</td>\n",
       "      <td>BLECKLEY COUNTY</td>\n",
       "    </tr>\n",
       "    <tr>\n",
       "      <th>746</th>\n",
       "      <td>2017-18</td>\n",
       "      <td>CALHOUN CITY</td>\n",
       "      <td>CALHOUN PRIMARY SCHOOL</td>\n",
       "      <td>Teachers</td>\n",
       "      <td>Total</td>\n",
       "      <td>63.2</td>\n",
       "      <td>23.6</td>\n",
       "      <td>37</td>\n",
       "      <td>FUZZY</td>\n",
       "      <td>BLECKLEY COUNTY ELEMENTARY SCHOOL</td>\n",
       "      <td>86</td>\n",
       "      <td>6120197</td>\n",
       "      <td>BLECKLEY COUNTY</td>\n",
       "    </tr>\n",
       "    <tr>\n",
       "      <th>...</th>\n",
       "      <td>...</td>\n",
       "      <td>...</td>\n",
       "      <td>...</td>\n",
       "      <td>...</td>\n",
       "      <td>...</td>\n",
       "      <td>...</td>\n",
       "      <td>...</td>\n",
       "      <td>...</td>\n",
       "      <td>...</td>\n",
       "      <td>...</td>\n",
       "      <td>...</td>\n",
       "      <td>...</td>\n",
       "      <td>...</td>\n",
       "    </tr>\n",
       "    <tr>\n",
       "      <th>5919</th>\n",
       "      <td>2017-18</td>\n",
       "      <td>TIFT COUNTY</td>\n",
       "      <td>NORTHSIDE PRIMARY SCHOOL</td>\n",
       "      <td>Leaders</td>\n",
       "      <td>High Poverty</td>\n",
       "      <td>2.3</td>\n",
       "      <td>1.1</td>\n",
       "      <td>47</td>\n",
       "      <td>FUZZY</td>\n",
       "      <td>COOK HIGH SCHOOL</td>\n",
       "      <td>86</td>\n",
       "      <td>6370111</td>\n",
       "      <td>COOK COUNTY</td>\n",
       "    </tr>\n",
       "    <tr>\n",
       "      <th>5920</th>\n",
       "      <td>2017-18</td>\n",
       "      <td>TIFT COUNTY</td>\n",
       "      <td>NORTHSIDE PRIMARY SCHOOL</td>\n",
       "      <td>Teachers</td>\n",
       "      <td>High Poverty</td>\n",
       "      <td>31.7</td>\n",
       "      <td>10.0</td>\n",
       "      <td>32</td>\n",
       "      <td>FUZZY</td>\n",
       "      <td>COOK HIGH SCHOOL</td>\n",
       "      <td>86</td>\n",
       "      <td>6370111</td>\n",
       "      <td>COOK COUNTY</td>\n",
       "    </tr>\n",
       "    <tr>\n",
       "      <th>5921</th>\n",
       "      <td>2017-18</td>\n",
       "      <td>TIFT COUNTY</td>\n",
       "      <td>NORTHSIDE PRIMARY SCHOOL</td>\n",
       "      <td>Teachers</td>\n",
       "      <td>Total</td>\n",
       "      <td>31.7</td>\n",
       "      <td>10.0</td>\n",
       "      <td>32</td>\n",
       "      <td>FUZZY</td>\n",
       "      <td>COOK HIGH SCHOOL</td>\n",
       "      <td>86</td>\n",
       "      <td>6370111</td>\n",
       "      <td>COOK COUNTY</td>\n",
       "    </tr>\n",
       "    <tr>\n",
       "      <th>6280</th>\n",
       "      <td>2017-18</td>\n",
       "      <td>WHITE COUNTY</td>\n",
       "      <td>WHITE COUNTY 9TH GRADE ACADEMY</td>\n",
       "      <td>Leaders</td>\n",
       "      <td>Not Applicable</td>\n",
       "      <td>1.4</td>\n",
       "      <td>0.0</td>\n",
       "      <td>0</td>\n",
       "      <td>FUZZY</td>\n",
       "      <td>9TH GRADE ACADEMY</td>\n",
       "      <td>90</td>\n",
       "      <td>6680106</td>\n",
       "      <td>HABERSHAM COUNTY</td>\n",
       "    </tr>\n",
       "    <tr>\n",
       "      <th>6281</th>\n",
       "      <td>2017-18</td>\n",
       "      <td>WHITE COUNTY</td>\n",
       "      <td>WHITE COUNTY 9TH GRADE ACADEMY</td>\n",
       "      <td>Teachers</td>\n",
       "      <td>Total</td>\n",
       "      <td>52.8</td>\n",
       "      <td>43.0</td>\n",
       "      <td>81</td>\n",
       "      <td>FUZZY</td>\n",
       "      <td>9TH GRADE ACADEMY</td>\n",
       "      <td>90</td>\n",
       "      <td>6680106</td>\n",
       "      <td>HABERSHAM COUNTY</td>\n",
       "    </tr>\n",
       "  </tbody>\n",
       "</table>\n",
       "<p>97 rows × 13 columns</p>\n",
       "</div>"
      ],
      "text/plain": [
       "     LONG_SCHOOL_YEAR SCHOOL_DSTRCT_NM                      INSTN_NAME  \\\n",
       "309           2017-18     BAKER COUNTY    BAKER COUNTY LEARNING CENTER   \n",
       "310           2017-18     BAKER COUNTY    BAKER COUNTY LEARNING CENTER   \n",
       "311           2017-18     BAKER COUNTY    BAKER COUNTY LEARNING CENTER   \n",
       "745           2017-18     CALHOUN CITY          CALHOUN PRIMARY SCHOOL   \n",
       "746           2017-18     CALHOUN CITY          CALHOUN PRIMARY SCHOOL   \n",
       "...               ...              ...                             ...   \n",
       "5919          2017-18      TIFT COUNTY        NORTHSIDE PRIMARY SCHOOL   \n",
       "5920          2017-18      TIFT COUNTY        NORTHSIDE PRIMARY SCHOOL   \n",
       "5921          2017-18      TIFT COUNTY        NORTHSIDE PRIMARY SCHOOL   \n",
       "6280          2017-18     WHITE COUNTY  WHITE COUNTY 9TH GRADE ACADEMY   \n",
       "6281          2017-18     WHITE COUNTY  WHITE COUNTY 9TH GRADE ACADEMY   \n",
       "\n",
       "     LABEL_LVL_3_DESC LABEL_LVL_2_DESC   FTE  INEXPERIENCED_FTE  \\\n",
       "309           Leaders     High Poverty   0.3                0.3   \n",
       "310          Teachers     High Poverty   1.0                1.0   \n",
       "311          Teachers            Total   1.0                1.0   \n",
       "745           Leaders   Not Applicable   2.0                0.0   \n",
       "746          Teachers            Total  63.2               23.6   \n",
       "...               ...              ...   ...                ...   \n",
       "5919          Leaders     High Poverty   2.3                1.1   \n",
       "5920         Teachers     High Poverty  31.7               10.0   \n",
       "5921         Teachers            Total  31.7               10.0   \n",
       "6280          Leaders   Not Applicable   1.4                0.0   \n",
       "6281         Teachers            Total  52.8               43.0   \n",
       "\n",
       "      INEXPERIENCED_FTE_PCT MATCH_TYPE                        SCHOOL_NAME  \\\n",
       "309                     100      FUZZY                 CRISP COUNTY PRE-K   \n",
       "310                     100      FUZZY                 CRISP COUNTY PRE-K   \n",
       "311                     100      FUZZY                 CRISP COUNTY PRE-K   \n",
       "745                       0      FUZZY  BLECKLEY COUNTY ELEMENTARY SCHOOL   \n",
       "746                      37      FUZZY  BLECKLEY COUNTY ELEMENTARY SCHOOL   \n",
       "...                     ...        ...                                ...   \n",
       "5919                     47      FUZZY                   COOK HIGH SCHOOL   \n",
       "5920                     32      FUZZY                   COOK HIGH SCHOOL   \n",
       "5921                     32      FUZZY                   COOK HIGH SCHOOL   \n",
       "6280                      0      FUZZY                  9TH GRADE ACADEMY   \n",
       "6281                     81      FUZZY                  9TH GRADE ACADEMY   \n",
       "\n",
       "      SCORE  Full School_ID       SYSTEM_NAME  \n",
       "309      86         6405050      CRISP COUNTY  \n",
       "310      86         6405050      CRISP COUNTY  \n",
       "311      86         6405050      CRISP COUNTY  \n",
       "745      86         6120197   BLECKLEY COUNTY  \n",
       "746      86         6120197   BLECKLEY COUNTY  \n",
       "...     ...             ...               ...  \n",
       "5919     86         6370111       COOK COUNTY  \n",
       "5920     86         6370111       COOK COUNTY  \n",
       "5921     86         6370111       COOK COUNTY  \n",
       "6280     90         6680106  HABERSHAM COUNTY  \n",
       "6281     90         6680106  HABERSHAM COUNTY  \n",
       "\n",
       "[97 rows x 13 columns]"
      ]
     },
     "execution_count": 34,
     "metadata": {},
     "output_type": "execute_result"
    }
   ],
   "source": [
    "inexperienced_no_perfect_match"
   ]
  },
  {
   "attachments": {},
   "cell_type": "markdown",
   "metadata": {},
   "source": [
    "### Matching for Out of Field Educators"
   ]
  },
  {
   "attachments": {},
   "cell_type": "markdown",
   "metadata": {},
   "source": [
    "### Saving Output"
   ]
  },
  {
   "cell_type": "code",
   "execution_count": 35,
   "metadata": {},
   "outputs": [],
   "source": [
    "output_dir = \"matched-data\""
   ]
  },
  {
   "cell_type": "code",
   "execution_count": 36,
   "metadata": {},
   "outputs": [],
   "source": [
    "# rememeber to remove non-alphanumeric characters from school names.\n",
    "\n",
    "inexperienced_matched = pd.concat([inexperienced_with_perfect_match, inexperienced_no_perfect_match])\n",
    "inexperienced_matched[\n",
    "    [\n",
    "        \"LONG_SCHOOL_YEAR\",\n",
    "        \"SCHOOL_DSTRCT_NM\",\n",
    "        \"SYSTEM_NAME\",\n",
    "        \"INSTN_NAME\",\n",
    "        \"SCHOOL_NAME\",\n",
    "        \"LABEL_LVL_3_DESC\",\n",
    "        \"LABEL_LVL_2_DESC\",\n",
    "        \"FTE\",\n",
    "        \"INEXPERIENCED_FTE\",\n",
    "        \"INEXPERIENCED_FTE_PCT\",\n",
    "        \"Full School_ID\",\n",
    "    ]\n",
    "].to_csv(\"inexperienced-matched.csv\", index=False)\n",
    "\n",
    "# Cleaned by hand.\n",
    "\n"
   ]
  }
 ],
 "metadata": {
  "kernelspec": {
   "display_name": "atlanta-school-matching",
   "language": "python",
   "name": "python3"
  },
  "language_info": {
   "codemirror_mode": {
    "name": "ipython",
    "version": 3
   },
   "file_extension": ".py",
   "mimetype": "text/x-python",
   "name": "python",
   "nbconvert_exporter": "python",
   "pygments_lexer": "ipython3",
   "version": "3.8.15"
  },
  "orig_nbformat": 4,
  "vscode": {
   "interpreter": {
    "hash": "3f5b8ae71cd6f1427f27a2aae7e00ad9764d4a11c4c5b25e9feec828b6b7da8a"
   }
  }
 },
 "nbformat": 4,
 "nbformat_minor": 2
}
