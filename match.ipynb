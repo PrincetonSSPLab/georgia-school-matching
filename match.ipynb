{
 "cells": [
  {
   "cell_type": "markdown",
   "metadata": {},
   "source": [
    "# Approximate School Name Matching\n",
    "\n",
    "Matches school names and their ID's"
   ]
  },
  {
   "cell_type": "code",
   "execution_count": 74,
   "metadata": {},
   "outputs": [],
   "source": [
    "import pandas as pd\n",
    "from fuzzywuzzy import fuzz, process"
   ]
  },
  {
   "cell_type": "code",
   "execution_count": 75,
   "metadata": {},
   "outputs": [],
   "source": [
    "school_to_id = pd.read_excel('GA 2017-2018 school names and IDs.xlsx')\n",
    "educator_inex = pd.read_csv('Educators_Inexperienced_2018_JAN_24th_2019.csv')\n",
    "educator_out = pd.read_csv('Educators_OUT_OF_FIELD_2018_JAN_24th_2019.csv')"
   ]
  },
  {
   "cell_type": "code",
   "execution_count": 76,
   "metadata": {},
   "outputs": [
    {
     "data": {
      "text/plain": [
       "('Altamaha Elementary School', 100, 4)"
      ]
     },
     "execution_count": 76,
     "metadata": {},
     "output_type": "execute_result"
    }
   ],
   "source": [
    "process.extractOne('Altamaha Elementary School', school_to_id['SCHOOL_NAME'], scorer=fuzz.partial_ratio)"
   ]
  },
  {
   "cell_type": "code",
   "execution_count": 77,
   "metadata": {},
   "outputs": [],
   "source": [
    "def match_school_to_id(school_name, school_to_id):\n",
    "    result = process.extractOne(school_name, school_to_id['SCHOOL_NAME'], scorer=fuzz.partial_ratio)\n",
    "    matching_name = result[0]\n",
    "    confience = result[1]\n",
    "    row_index = result[2]\n",
    "    school_id = school_to_id.iloc[row_index]['Full School_ID']\n",
    "    return school_id, matching_name, confience"
   ]
  },
  {
   "cell_type": "code",
   "execution_count": 78,
   "metadata": {},
   "outputs": [],
   "source": [
    "educator_out_res = educator_out['INSTN_NAME'].apply(lambda school_name: match_school_to_id(school_name, school_to_id))"
   ]
  },
  {
   "cell_type": "code",
   "execution_count": 79,
   "metadata": {},
   "outputs": [],
   "source": [
    "educator_out['SCHOOL_ID'] = educator_out_res.apply(lambda x: x[0])\n",
    "educator_out['MATCHING_NAME'] = educator_out_res.apply(lambda x: x[1])\n",
    "educator_out['CONFIDENCE'] = educator_out_res.apply(lambda x: x[2])"
   ]
  },
  {
   "cell_type": "code",
   "execution_count": 85,
   "metadata": {},
   "outputs": [],
   "source": [
    "educator_out.to_csv('Educators_OUT_OF_FIELD_2018_JAN_24th_2019_with_id.csv', index=False)"
   ]
  },
  {
   "cell_type": "code",
   "execution_count": 81,
   "metadata": {},
   "outputs": [],
   "source": [
    "educator_inex_res = educator_inex['INSTN_NAME'].apply(lambda school_name: match_school_to_id(school_name, school_to_id))"
   ]
  },
  {
   "cell_type": "code",
   "execution_count": 82,
   "metadata": {},
   "outputs": [],
   "source": [
    "educator_inex['SCHOOL_ID'] = educator_inex_res.apply(lambda x: x[0])\n",
    "educator_inex['MATCHING_NAME'] = educator_inex_res.apply(lambda x: x[1])\n",
    "educator_inex['CONFIDENCE'] = educator_inex_res.apply(lambda x: x[2])"
   ]
  },
  {
   "cell_type": "code",
   "execution_count": 84,
   "metadata": {},
   "outputs": [],
   "source": [
    "educator_inex.to_csv('Educators_Inexperienced_2018_JAN_24th_2019_with_id.csv', index=False)"
   ]
  }
 ],
 "metadata": {
  "kernelspec": {
   "display_name": "Python 3.8.15 ('atlanta-school-matching')",
   "language": "python",
   "name": "python3"
  },
  "language_info": {
   "codemirror_mode": {
    "name": "ipython",
    "version": 3
   },
   "file_extension": ".py",
   "mimetype": "text/x-python",
   "name": "python",
   "nbconvert_exporter": "python",
   "pygments_lexer": "ipython3",
   "version": "3.8.15"
  },
  "orig_nbformat": 4,
  "vscode": {
   "interpreter": {
    "hash": "3f5b8ae71cd6f1427f27a2aae7e00ad9764d4a11c4c5b25e9feec828b6b7da8a"
   }
  }
 },
 "nbformat": 4,
 "nbformat_minor": 2
}
