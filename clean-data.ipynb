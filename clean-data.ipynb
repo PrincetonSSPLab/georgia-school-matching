{
 "cells": [
  {
   "attachments": {},
   "cell_type": "markdown",
   "metadata": {},
   "source": [
    "## Clean Data\n",
    "\n",
    "Prepares data for downstream analysis."
   ]
  },
  {
   "cell_type": "code",
   "execution_count": null,
   "metadata": {},
   "outputs": [],
   "source": [
    "import pandas as pd\n",
    "import os"
   ]
  },
  {
   "cell_type": "code",
   "execution_count": null,
   "metadata": {},
   "outputs": [],
   "source": [
    "data_input_path = \"hand-cleaned-data\"\n",
    "data_output_path = \"final-data\""
   ]
  },
  {
   "cell_type": "code",
   "execution_count": null,
   "metadata": {},
   "outputs": [],
   "source": [
    "inexperienced = pd.read_csv(os.path.join(data_input_path, \"inexperienced-matched-hand-cleaned.csv\"))\n",
    "out_of_field = pd.read_csv(os.path.join(data_input_path, \"out-of-field-matched-hand-cleaned.csv\"))"
   ]
  },
  {
   "cell_type": "code",
   "execution_count": null,
   "metadata": {},
   "outputs": [],
   "source": [
    "inexperienced.head()"
   ]
  },
  {
   "cell_type": "code",
   "execution_count": null,
   "metadata": {},
   "outputs": [],
   "source": [
    "out_of_field.head()"
   ]
  },
  {
   "cell_type": "code",
   "execution_count": null,
   "metadata": {},
   "outputs": [],
   "source": [
    "inexperienced = inexperienced.rename(columns={\"Full School_ID\": \"FULL_SCHOOL_ID\"})\n",
    "inexperienced = inexperienced.drop(columns=[\"MATCH_TYPE\", \"SCORE\"])\n",
    "inexperienced[\"INSTN_NAME\"] = inexperienced[\"INSTN_NAME\"].str.upper()\n",
    "inexperienced[\"SYSTEM_NAME\"] = inexperienced[\"SYSTEM_NAME\"].str.upper()\n",
    "inexperienced[\"SCHOOL_NAME\"] = inexperienced[\"SCHOOL_NAME\"].str.upper()"
   ]
  },
  {
   "cell_type": "code",
   "execution_count": null,
   "metadata": {},
   "outputs": [],
   "source": [
    "out_of_field = out_of_field.rename(columns={\"Full School_ID\": \"FULL_SCHOOL_ID\"})\n",
    "out_of_field = out_of_field.drop(columns=[\"MATCH_TYPE\", \"SCORE\"])\n",
    "out_of_field[\"INSTN_NAME\"] = out_of_field[\"INSTN_NAME\"].str.upper()\n",
    "out_of_field[\"SYSTEM_NAME\"] = out_of_field[\"SYSTEM_NAME\"].str.upper()\n",
    "out_of_field[\"SCHOOL_NAME\"] = out_of_field[\"SCHOOL_NAME\"].str.upper()"
   ]
  },
  {
   "cell_type": "code",
   "execution_count": null,
   "metadata": {},
   "outputs": [],
   "source": [
    "inexperienced.to_csv(os.path.join(data_output_path, \"inexperienced-matched-cleaned.csv\"), index=False)\n",
    "out_of_field.to_csv(os.path.join(data_output_path, \"out-of-field-matched-cleaned.csv\"), index=False)"
   ]
  }
 ],
 "metadata": {
  "kernelspec": {
   "display_name": "atlanta-school-matching",
   "language": "python",
   "name": "python3"
  },
  "language_info": {
   "codemirror_mode": {
    "name": "ipython",
    "version": 3
   },
   "file_extension": ".py",
   "mimetype": "text/x-python",
   "name": "python",
   "nbconvert_exporter": "python",
   "pygments_lexer": "ipython3",
   "version": "3.8.15"
  },
  "orig_nbformat": 4,
  "vscode": {
   "interpreter": {
    "hash": "3f5b8ae71cd6f1427f27a2aae7e00ad9764d4a11c4c5b25e9feec828b6b7da8a"
   }
  }
 },
 "nbformat": 4,
 "nbformat_minor": 2
}
